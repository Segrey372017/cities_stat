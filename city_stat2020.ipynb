{
  "nbformat": 4,
  "nbformat_minor": 0,
  "metadata": {
    "colab": {
      "name": "city_stat2020.ipynb",
      "provenance": [],
      "collapsed_sections": [],
      "toc_visible": true,
      "authorship_tag": "ABX9TyN2xIYv89NtAGRjBnoVA8g7",
      "include_colab_link": true
    },
    "kernelspec": {
      "name": "python3",
      "display_name": "Python 3"
    },
    "language_info": {
      "name": "python"
    }
  },
  "cells": [
    {
      "cell_type": "markdown",
      "metadata": {
        "id": "view-in-github",
        "colab_type": "text"
      },
      "source": [
        "<a href=\"https://colab.research.google.com/github/Segrey372017/cities_stat/blob/main/city_stat2020.ipynb\" target=\"_parent\"><img src=\"https://colab.research.google.com/assets/colab-badge.svg\" alt=\"Open In Colab\"/></a>"
      ]
    },
    {
      "cell_type": "code",
      "execution_count": 1,
      "metadata": {
        "id": "bVcD1IZVycvx"
      },
      "outputs": [],
      "source": [
        "import numpy as np\n",
        "import pandas as pd\n",
        "import matplotlib.pyplot as plt\n",
        "import seaborn as sns\n",
        "sns.set()"
      ]
    },
    {
      "cell_type": "code",
      "source": [
        "from sklearn.preprocessing import StandardScaler\n",
        "from sklearn.model_selection import train_test_split\n",
        "from sklearn.linear_model import LinearRegression"
      ],
      "metadata": {
        "id": "RFRFQbDsyvlH"
      },
      "execution_count": 2,
      "outputs": []
    },
    {
      "cell_type": "code",
      "source": [
        "from lightgbm import LGBMRegressor"
      ],
      "metadata": {
        "id": "gQIepmoZzMKt"
      },
      "execution_count": 3,
      "outputs": []
    },
    {
      "cell_type": "markdown",
      "source": [
        "# Загрузка и очистка данных"
      ],
      "metadata": {
        "id": "vZ04WZWf59P2"
      }
    },
    {
      "cell_type": "code",
      "source": [
        "!wget -O /content/cities_stat2020.xlsx https://github.com/Segrey372017/cities_stat/blob/main/cities_stat2020.xlsx?raw=true"
      ],
      "metadata": {
        "colab": {
          "base_uri": "https://localhost:8080/"
        },
        "id": "NmFx2MfL1di6",
        "outputId": "842266fb-c76b-477f-890b-9e356e952ed1"
      },
      "execution_count": 14,
      "outputs": [
        {
          "output_type": "stream",
          "name": "stdout",
          "text": [
            "--2022-08-10 08:23:27--  https://github.com/Segrey372017/cities_stat/blob/main/cities_stat2020.xlsx?raw=true\n",
            "Resolving github.com (github.com)... 13.114.40.48\n",
            "Connecting to github.com (github.com)|13.114.40.48|:443... connected.\n",
            "HTTP request sent, awaiting response... 302 Found\n",
            "Location: https://github.com/Segrey372017/cities_stat/raw/main/cities_stat2020.xlsx [following]\n",
            "--2022-08-10 08:23:27--  https://github.com/Segrey372017/cities_stat/raw/main/cities_stat2020.xlsx\n",
            "Reusing existing connection to github.com:443.\n",
            "HTTP request sent, awaiting response... 302 Found\n",
            "Location: https://raw.githubusercontent.com/Segrey372017/cities_stat/main/cities_stat2020.xlsx [following]\n",
            "--2022-08-10 08:23:27--  https://raw.githubusercontent.com/Segrey372017/cities_stat/main/cities_stat2020.xlsx\n",
            "Resolving raw.githubusercontent.com (raw.githubusercontent.com)... 185.199.111.133, 185.199.110.133, 185.199.108.133, ...\n",
            "Connecting to raw.githubusercontent.com (raw.githubusercontent.com)|185.199.111.133|:443... connected.\n",
            "HTTP request sent, awaiting response... 200 OK\n",
            "Length: 16195 (16K) [application/octet-stream]\n",
            "Saving to: ‘/content/cities_stat2020.xlsx’\n",
            "\n",
            "/content/cities_sta 100%[===================>]  15.82K  --.-KB/s    in 0.001s  \n",
            "\n",
            "2022-08-10 08:23:27 (11.1 MB/s) - ‘/content/cities_stat2020.xlsx’ saved [16195/16195]\n",
            "\n"
          ]
        }
      ]
    },
    {
      "cell_type": "code",
      "source": [
        "df = pd.read_excel('/content/cities_stat2020.xlsx')"
      ],
      "metadata": {
        "id": "K7YE5rqo2BQh"
      },
      "execution_count": 15,
      "outputs": []
    },
    {
      "cell_type": "code",
      "source": [
        "df.head()"
      ],
      "metadata": {
        "colab": {
          "base_uri": "https://localhost:8080/",
          "height": 206
        },
        "id": "-wsUDygc3da6",
        "outputId": "4e0c0f5f-12c1-43f4-fc52-d98c4066eb58"
      },
      "execution_count": 16,
      "outputs": [
        {
          "output_type": "execute_result",
          "data": {
            "text/plain": [
              "       Регион Муниципалитет  ССЧ_чел  СредняяЗарплата_руб  Отгрузка_млн_руб  \\\n",
              "0  Ивановская        Вичуга     4644              24362.5         1569.9801   \n",
              "1  Ивановская       Кинешма    12075              27299.0         7772.1423   \n",
              "2  Ивановская         Кохма     2733              27163.4         2937.9856   \n",
              "3  Ивановская       Тейково     5395              27988.7         6710.2328   \n",
              "4  Ивановская           Шуя     9402              30067.4        24950.8141   \n",
              "\n",
              "   ОборотТорговли_млн_руб  БюджетРасходы_млн_руб  Инвестиции_млн_руб  \n",
              "0               1938.6381               728.6035             204.065  \n",
              "1               4852.5725              1977.6431             995.331  \n",
              "2               1700.0135               630.7619             467.665  \n",
              "3               2309.6860               758.5690             275.265  \n",
              "4               4104.0293              1188.5295             863.467  "
            ],
            "text/html": [
              "\n",
              "  <div id=\"df-7db5aceb-ccf5-4bbc-87fa-0d305882e135\">\n",
              "    <div class=\"colab-df-container\">\n",
              "      <div>\n",
              "<style scoped>\n",
              "    .dataframe tbody tr th:only-of-type {\n",
              "        vertical-align: middle;\n",
              "    }\n",
              "\n",
              "    .dataframe tbody tr th {\n",
              "        vertical-align: top;\n",
              "    }\n",
              "\n",
              "    .dataframe thead th {\n",
              "        text-align: right;\n",
              "    }\n",
              "</style>\n",
              "<table border=\"1\" class=\"dataframe\">\n",
              "  <thead>\n",
              "    <tr style=\"text-align: right;\">\n",
              "      <th></th>\n",
              "      <th>Регион</th>\n",
              "      <th>Муниципалитет</th>\n",
              "      <th>ССЧ_чел</th>\n",
              "      <th>СредняяЗарплата_руб</th>\n",
              "      <th>Отгрузка_млн_руб</th>\n",
              "      <th>ОборотТорговли_млн_руб</th>\n",
              "      <th>БюджетРасходы_млн_руб</th>\n",
              "      <th>Инвестиции_млн_руб</th>\n",
              "    </tr>\n",
              "  </thead>\n",
              "  <tbody>\n",
              "    <tr>\n",
              "      <th>0</th>\n",
              "      <td>Ивановская</td>\n",
              "      <td>Вичуга</td>\n",
              "      <td>4644</td>\n",
              "      <td>24362.5</td>\n",
              "      <td>1569.9801</td>\n",
              "      <td>1938.6381</td>\n",
              "      <td>728.6035</td>\n",
              "      <td>204.065</td>\n",
              "    </tr>\n",
              "    <tr>\n",
              "      <th>1</th>\n",
              "      <td>Ивановская</td>\n",
              "      <td>Кинешма</td>\n",
              "      <td>12075</td>\n",
              "      <td>27299.0</td>\n",
              "      <td>7772.1423</td>\n",
              "      <td>4852.5725</td>\n",
              "      <td>1977.6431</td>\n",
              "      <td>995.331</td>\n",
              "    </tr>\n",
              "    <tr>\n",
              "      <th>2</th>\n",
              "      <td>Ивановская</td>\n",
              "      <td>Кохма</td>\n",
              "      <td>2733</td>\n",
              "      <td>27163.4</td>\n",
              "      <td>2937.9856</td>\n",
              "      <td>1700.0135</td>\n",
              "      <td>630.7619</td>\n",
              "      <td>467.665</td>\n",
              "    </tr>\n",
              "    <tr>\n",
              "      <th>3</th>\n",
              "      <td>Ивановская</td>\n",
              "      <td>Тейково</td>\n",
              "      <td>5395</td>\n",
              "      <td>27988.7</td>\n",
              "      <td>6710.2328</td>\n",
              "      <td>2309.6860</td>\n",
              "      <td>758.5690</td>\n",
              "      <td>275.265</td>\n",
              "    </tr>\n",
              "    <tr>\n",
              "      <th>4</th>\n",
              "      <td>Ивановская</td>\n",
              "      <td>Шуя</td>\n",
              "      <td>9402</td>\n",
              "      <td>30067.4</td>\n",
              "      <td>24950.8141</td>\n",
              "      <td>4104.0293</td>\n",
              "      <td>1188.5295</td>\n",
              "      <td>863.467</td>\n",
              "    </tr>\n",
              "  </tbody>\n",
              "</table>\n",
              "</div>\n",
              "      <button class=\"colab-df-convert\" onclick=\"convertToInteractive('df-7db5aceb-ccf5-4bbc-87fa-0d305882e135')\"\n",
              "              title=\"Convert this dataframe to an interactive table.\"\n",
              "              style=\"display:none;\">\n",
              "        \n",
              "  <svg xmlns=\"http://www.w3.org/2000/svg\" height=\"24px\"viewBox=\"0 0 24 24\"\n",
              "       width=\"24px\">\n",
              "    <path d=\"M0 0h24v24H0V0z\" fill=\"none\"/>\n",
              "    <path d=\"M18.56 5.44l.94 2.06.94-2.06 2.06-.94-2.06-.94-.94-2.06-.94 2.06-2.06.94zm-11 1L8.5 8.5l.94-2.06 2.06-.94-2.06-.94L8.5 2.5l-.94 2.06-2.06.94zm10 10l.94 2.06.94-2.06 2.06-.94-2.06-.94-.94-2.06-.94 2.06-2.06.94z\"/><path d=\"M17.41 7.96l-1.37-1.37c-.4-.4-.92-.59-1.43-.59-.52 0-1.04.2-1.43.59L10.3 9.45l-7.72 7.72c-.78.78-.78 2.05 0 2.83L4 21.41c.39.39.9.59 1.41.59.51 0 1.02-.2 1.41-.59l7.78-7.78 2.81-2.81c.8-.78.8-2.07 0-2.86zM5.41 20L4 18.59l7.72-7.72 1.47 1.35L5.41 20z\"/>\n",
              "  </svg>\n",
              "      </button>\n",
              "      \n",
              "  <style>\n",
              "    .colab-df-container {\n",
              "      display:flex;\n",
              "      flex-wrap:wrap;\n",
              "      gap: 12px;\n",
              "    }\n",
              "\n",
              "    .colab-df-convert {\n",
              "      background-color: #E8F0FE;\n",
              "      border: none;\n",
              "      border-radius: 50%;\n",
              "      cursor: pointer;\n",
              "      display: none;\n",
              "      fill: #1967D2;\n",
              "      height: 32px;\n",
              "      padding: 0 0 0 0;\n",
              "      width: 32px;\n",
              "    }\n",
              "\n",
              "    .colab-df-convert:hover {\n",
              "      background-color: #E2EBFA;\n",
              "      box-shadow: 0px 1px 2px rgba(60, 64, 67, 0.3), 0px 1px 3px 1px rgba(60, 64, 67, 0.15);\n",
              "      fill: #174EA6;\n",
              "    }\n",
              "\n",
              "    [theme=dark] .colab-df-convert {\n",
              "      background-color: #3B4455;\n",
              "      fill: #D2E3FC;\n",
              "    }\n",
              "\n",
              "    [theme=dark] .colab-df-convert:hover {\n",
              "      background-color: #434B5C;\n",
              "      box-shadow: 0px 1px 3px 1px rgba(0, 0, 0, 0.15);\n",
              "      filter: drop-shadow(0px 1px 2px rgba(0, 0, 0, 0.3));\n",
              "      fill: #FFFFFF;\n",
              "    }\n",
              "  </style>\n",
              "\n",
              "      <script>\n",
              "        const buttonEl =\n",
              "          document.querySelector('#df-7db5aceb-ccf5-4bbc-87fa-0d305882e135 button.colab-df-convert');\n",
              "        buttonEl.style.display =\n",
              "          google.colab.kernel.accessAllowed ? 'block' : 'none';\n",
              "\n",
              "        async function convertToInteractive(key) {\n",
              "          const element = document.querySelector('#df-7db5aceb-ccf5-4bbc-87fa-0d305882e135');\n",
              "          const dataTable =\n",
              "            await google.colab.kernel.invokeFunction('convertToInteractive',\n",
              "                                                     [key], {});\n",
              "          if (!dataTable) return;\n",
              "\n",
              "          const docLinkHtml = 'Like what you see? Visit the ' +\n",
              "            '<a target=\"_blank\" href=https://colab.research.google.com/notebooks/data_table.ipynb>data table notebook</a>'\n",
              "            + ' to learn more about interactive tables.';\n",
              "          element.innerHTML = '';\n",
              "          dataTable['output_type'] = 'display_data';\n",
              "          await google.colab.output.renderOutput(dataTable, element);\n",
              "          const docLink = document.createElement('div');\n",
              "          docLink.innerHTML = docLinkHtml;\n",
              "          element.appendChild(docLink);\n",
              "        }\n",
              "      </script>\n",
              "    </div>\n",
              "  </div>\n",
              "  "
            ]
          },
          "metadata": {},
          "execution_count": 16
        }
      ]
    },
    {
      "cell_type": "code",
      "source": [
        "df.info()"
      ],
      "metadata": {
        "colab": {
          "base_uri": "https://localhost:8080/"
        },
        "id": "HuUhXSPz3ieH",
        "outputId": "0f6dfaa6-2544-433f-cbc0-4cb17a2b7192"
      },
      "execution_count": 17,
      "outputs": [
        {
          "output_type": "stream",
          "name": "stdout",
          "text": [
            "<class 'pandas.core.frame.DataFrame'>\n",
            "RangeIndex: 68 entries, 0 to 67\n",
            "Data columns (total 8 columns):\n",
            " #   Column                  Non-Null Count  Dtype  \n",
            "---  ------                  --------------  -----  \n",
            " 0   Регион                  68 non-null     object \n",
            " 1   Муниципалитет           68 non-null     object \n",
            " 2   ССЧ_чел                 68 non-null     int64  \n",
            " 3   СредняяЗарплата_руб     68 non-null     float64\n",
            " 4   Отгрузка_млн_руб        68 non-null     float64\n",
            " 5   ОборотТорговли_млн_руб  68 non-null     float64\n",
            " 6   БюджетРасходы_млн_руб   68 non-null     float64\n",
            " 7   Инвестиции_млн_руб      62 non-null     float64\n",
            "dtypes: float64(5), int64(1), object(2)\n",
            "memory usage: 4.4+ KB\n"
          ]
        }
      ]
    },
    {
      "cell_type": "code",
      "source": [
        "df.describe()"
      ],
      "metadata": {
        "colab": {
          "base_uri": "https://localhost:8080/",
          "height": 300
        },
        "id": "h0mX_jTR3tG9",
        "outputId": "894be316-dd34-4fcb-cdf0-eb55d2cfeac8"
      },
      "execution_count": 18,
      "outputs": [
        {
          "output_type": "execute_result",
          "data": {
            "text/plain": [
              "            ССЧ_чел  СредняяЗарплата_руб  Отгрузка_млн_руб  \\\n",
              "count     68.000000            68.000000         68.000000   \n",
              "mean   12877.779412         34517.510294      34688.180706   \n",
              "std    12032.665673          7686.802720      51781.509944   \n",
              "min     1866.000000         24362.500000        407.070500   \n",
              "25%     5075.500000         29316.375000       5387.134600   \n",
              "50%     8491.500000         32270.000000      10926.647150   \n",
              "75%    15054.750000         37180.325000      42147.839225   \n",
              "max    64793.000000         59152.200000     281343.335800   \n",
              "\n",
              "       ОборотТорговли_млн_руб  БюджетРасходы_млн_руб  Инвестиции_млн_руб  \n",
              "count               68.000000              68.000000           62.000000  \n",
              "mean              5078.557775            1844.546884         3447.620306  \n",
              "std               5591.837927            1713.315022         6175.213816  \n",
              "min                553.083000             261.684100           39.935000  \n",
              "25%               1682.883550             803.925175          442.624000  \n",
              "50%               3447.332550            1312.376500          929.399000  \n",
              "75%               5900.468300            2335.706750         3465.825250  \n",
              "max              29349.209800            9611.746800        30692.197000  "
            ],
            "text/html": [
              "\n",
              "  <div id=\"df-2c40e001-4d1e-4bd1-9302-1727a7dc5016\">\n",
              "    <div class=\"colab-df-container\">\n",
              "      <div>\n",
              "<style scoped>\n",
              "    .dataframe tbody tr th:only-of-type {\n",
              "        vertical-align: middle;\n",
              "    }\n",
              "\n",
              "    .dataframe tbody tr th {\n",
              "        vertical-align: top;\n",
              "    }\n",
              "\n",
              "    .dataframe thead th {\n",
              "        text-align: right;\n",
              "    }\n",
              "</style>\n",
              "<table border=\"1\" class=\"dataframe\">\n",
              "  <thead>\n",
              "    <tr style=\"text-align: right;\">\n",
              "      <th></th>\n",
              "      <th>ССЧ_чел</th>\n",
              "      <th>СредняяЗарплата_руб</th>\n",
              "      <th>Отгрузка_млн_руб</th>\n",
              "      <th>ОборотТорговли_млн_руб</th>\n",
              "      <th>БюджетРасходы_млн_руб</th>\n",
              "      <th>Инвестиции_млн_руб</th>\n",
              "    </tr>\n",
              "  </thead>\n",
              "  <tbody>\n",
              "    <tr>\n",
              "      <th>count</th>\n",
              "      <td>68.000000</td>\n",
              "      <td>68.000000</td>\n",
              "      <td>68.000000</td>\n",
              "      <td>68.000000</td>\n",
              "      <td>68.000000</td>\n",
              "      <td>62.000000</td>\n",
              "    </tr>\n",
              "    <tr>\n",
              "      <th>mean</th>\n",
              "      <td>12877.779412</td>\n",
              "      <td>34517.510294</td>\n",
              "      <td>34688.180706</td>\n",
              "      <td>5078.557775</td>\n",
              "      <td>1844.546884</td>\n",
              "      <td>3447.620306</td>\n",
              "    </tr>\n",
              "    <tr>\n",
              "      <th>std</th>\n",
              "      <td>12032.665673</td>\n",
              "      <td>7686.802720</td>\n",
              "      <td>51781.509944</td>\n",
              "      <td>5591.837927</td>\n",
              "      <td>1713.315022</td>\n",
              "      <td>6175.213816</td>\n",
              "    </tr>\n",
              "    <tr>\n",
              "      <th>min</th>\n",
              "      <td>1866.000000</td>\n",
              "      <td>24362.500000</td>\n",
              "      <td>407.070500</td>\n",
              "      <td>553.083000</td>\n",
              "      <td>261.684100</td>\n",
              "      <td>39.935000</td>\n",
              "    </tr>\n",
              "    <tr>\n",
              "      <th>25%</th>\n",
              "      <td>5075.500000</td>\n",
              "      <td>29316.375000</td>\n",
              "      <td>5387.134600</td>\n",
              "      <td>1682.883550</td>\n",
              "      <td>803.925175</td>\n",
              "      <td>442.624000</td>\n",
              "    </tr>\n",
              "    <tr>\n",
              "      <th>50%</th>\n",
              "      <td>8491.500000</td>\n",
              "      <td>32270.000000</td>\n",
              "      <td>10926.647150</td>\n",
              "      <td>3447.332550</td>\n",
              "      <td>1312.376500</td>\n",
              "      <td>929.399000</td>\n",
              "    </tr>\n",
              "    <tr>\n",
              "      <th>75%</th>\n",
              "      <td>15054.750000</td>\n",
              "      <td>37180.325000</td>\n",
              "      <td>42147.839225</td>\n",
              "      <td>5900.468300</td>\n",
              "      <td>2335.706750</td>\n",
              "      <td>3465.825250</td>\n",
              "    </tr>\n",
              "    <tr>\n",
              "      <th>max</th>\n",
              "      <td>64793.000000</td>\n",
              "      <td>59152.200000</td>\n",
              "      <td>281343.335800</td>\n",
              "      <td>29349.209800</td>\n",
              "      <td>9611.746800</td>\n",
              "      <td>30692.197000</td>\n",
              "    </tr>\n",
              "  </tbody>\n",
              "</table>\n",
              "</div>\n",
              "      <button class=\"colab-df-convert\" onclick=\"convertToInteractive('df-2c40e001-4d1e-4bd1-9302-1727a7dc5016')\"\n",
              "              title=\"Convert this dataframe to an interactive table.\"\n",
              "              style=\"display:none;\">\n",
              "        \n",
              "  <svg xmlns=\"http://www.w3.org/2000/svg\" height=\"24px\"viewBox=\"0 0 24 24\"\n",
              "       width=\"24px\">\n",
              "    <path d=\"M0 0h24v24H0V0z\" fill=\"none\"/>\n",
              "    <path d=\"M18.56 5.44l.94 2.06.94-2.06 2.06-.94-2.06-.94-.94-2.06-.94 2.06-2.06.94zm-11 1L8.5 8.5l.94-2.06 2.06-.94-2.06-.94L8.5 2.5l-.94 2.06-2.06.94zm10 10l.94 2.06.94-2.06 2.06-.94-2.06-.94-.94-2.06-.94 2.06-2.06.94z\"/><path d=\"M17.41 7.96l-1.37-1.37c-.4-.4-.92-.59-1.43-.59-.52 0-1.04.2-1.43.59L10.3 9.45l-7.72 7.72c-.78.78-.78 2.05 0 2.83L4 21.41c.39.39.9.59 1.41.59.51 0 1.02-.2 1.41-.59l7.78-7.78 2.81-2.81c.8-.78.8-2.07 0-2.86zM5.41 20L4 18.59l7.72-7.72 1.47 1.35L5.41 20z\"/>\n",
              "  </svg>\n",
              "      </button>\n",
              "      \n",
              "  <style>\n",
              "    .colab-df-container {\n",
              "      display:flex;\n",
              "      flex-wrap:wrap;\n",
              "      gap: 12px;\n",
              "    }\n",
              "\n",
              "    .colab-df-convert {\n",
              "      background-color: #E8F0FE;\n",
              "      border: none;\n",
              "      border-radius: 50%;\n",
              "      cursor: pointer;\n",
              "      display: none;\n",
              "      fill: #1967D2;\n",
              "      height: 32px;\n",
              "      padding: 0 0 0 0;\n",
              "      width: 32px;\n",
              "    }\n",
              "\n",
              "    .colab-df-convert:hover {\n",
              "      background-color: #E2EBFA;\n",
              "      box-shadow: 0px 1px 2px rgba(60, 64, 67, 0.3), 0px 1px 3px 1px rgba(60, 64, 67, 0.15);\n",
              "      fill: #174EA6;\n",
              "    }\n",
              "\n",
              "    [theme=dark] .colab-df-convert {\n",
              "      background-color: #3B4455;\n",
              "      fill: #D2E3FC;\n",
              "    }\n",
              "\n",
              "    [theme=dark] .colab-df-convert:hover {\n",
              "      background-color: #434B5C;\n",
              "      box-shadow: 0px 1px 3px 1px rgba(0, 0, 0, 0.15);\n",
              "      filter: drop-shadow(0px 1px 2px rgba(0, 0, 0, 0.3));\n",
              "      fill: #FFFFFF;\n",
              "    }\n",
              "  </style>\n",
              "\n",
              "      <script>\n",
              "        const buttonEl =\n",
              "          document.querySelector('#df-2c40e001-4d1e-4bd1-9302-1727a7dc5016 button.colab-df-convert');\n",
              "        buttonEl.style.display =\n",
              "          google.colab.kernel.accessAllowed ? 'block' : 'none';\n",
              "\n",
              "        async function convertToInteractive(key) {\n",
              "          const element = document.querySelector('#df-2c40e001-4d1e-4bd1-9302-1727a7dc5016');\n",
              "          const dataTable =\n",
              "            await google.colab.kernel.invokeFunction('convertToInteractive',\n",
              "                                                     [key], {});\n",
              "          if (!dataTable) return;\n",
              "\n",
              "          const docLinkHtml = 'Like what you see? Visit the ' +\n",
              "            '<a target=\"_blank\" href=https://colab.research.google.com/notebooks/data_table.ipynb>data table notebook</a>'\n",
              "            + ' to learn more about interactive tables.';\n",
              "          element.innerHTML = '';\n",
              "          dataTable['output_type'] = 'display_data';\n",
              "          await google.colab.output.renderOutput(dataTable, element);\n",
              "          const docLink = document.createElement('div');\n",
              "          docLink.innerHTML = docLinkHtml;\n",
              "          element.appendChild(docLink);\n",
              "        }\n",
              "      </script>\n",
              "    </div>\n",
              "  </div>\n",
              "  "
            ]
          },
          "metadata": {},
          "execution_count": 18
        }
      ]
    },
    {
      "cell_type": "code",
      "source": [
        "df['Инвестиции_млн_руб'].isna().mean()"
      ],
      "metadata": {
        "colab": {
          "base_uri": "https://localhost:8080/"
        },
        "id": "2e6wOnwO32SY",
        "outputId": "2e58c71b-0050-49ee-dd19-64f0bd87c005"
      },
      "execution_count": 19,
      "outputs": [
        {
          "output_type": "execute_result",
          "data": {
            "text/plain": [
              "0.08823529411764706"
            ]
          },
          "metadata": {},
          "execution_count": 19
        }
      ]
    },
    {
      "cell_type": "code",
      "source": [
        "data = df.dropna()"
      ],
      "metadata": {
        "id": "_yQADkW74I3N"
      },
      "execution_count": 20,
      "outputs": []
    },
    {
      "cell_type": "code",
      "source": [
        "data.describe()"
      ],
      "metadata": {
        "colab": {
          "base_uri": "https://localhost:8080/",
          "height": 300
        },
        "id": "W2FyoeS-4eMF",
        "outputId": "923c0d60-3f1e-49f7-b63e-2a6f73ef23c7"
      },
      "execution_count": 21,
      "outputs": [
        {
          "output_type": "execute_result",
          "data": {
            "text/plain": [
              "            ССЧ_чел  СредняяЗарплата_руб  Отгрузка_млн_руб  \\\n",
              "count     62.000000            62.000000         62.000000   \n",
              "mean   13351.790323         35038.895161      37510.892663   \n",
              "std    12388.285559          7830.097138      53411.919604   \n",
              "min     1866.000000         24362.500000        407.070500   \n",
              "25%     5205.000000         29491.550000       5622.500225   \n",
              "50%     9221.500000         33238.100000      13982.416700   \n",
              "75%    15484.250000         38003.600000      44577.123875   \n",
              "max    64793.000000         59152.200000     281343.335800   \n",
              "\n",
              "       ОборотТорговли_млн_руб  БюджетРасходы_млн_руб  Инвестиции_млн_руб  \n",
              "count               62.000000              62.000000           62.000000  \n",
              "mean              5300.632085            1926.572945         3447.620306  \n",
              "std               5785.758868            1765.144669         6175.213816  \n",
              "min                553.083000             261.684100           39.935000  \n",
              "25%               1665.874850             847.434450          442.624000  \n",
              "50%               3536.448500            1376.070450          929.399000  \n",
              "75%               6075.683900            2451.699650         3465.825250  \n",
              "max              29349.209800            9611.746800        30692.197000  "
            ],
            "text/html": [
              "\n",
              "  <div id=\"df-d378fb83-f49c-4ba5-a535-22937e6c4256\">\n",
              "    <div class=\"colab-df-container\">\n",
              "      <div>\n",
              "<style scoped>\n",
              "    .dataframe tbody tr th:only-of-type {\n",
              "        vertical-align: middle;\n",
              "    }\n",
              "\n",
              "    .dataframe tbody tr th {\n",
              "        vertical-align: top;\n",
              "    }\n",
              "\n",
              "    .dataframe thead th {\n",
              "        text-align: right;\n",
              "    }\n",
              "</style>\n",
              "<table border=\"1\" class=\"dataframe\">\n",
              "  <thead>\n",
              "    <tr style=\"text-align: right;\">\n",
              "      <th></th>\n",
              "      <th>ССЧ_чел</th>\n",
              "      <th>СредняяЗарплата_руб</th>\n",
              "      <th>Отгрузка_млн_руб</th>\n",
              "      <th>ОборотТорговли_млн_руб</th>\n",
              "      <th>БюджетРасходы_млн_руб</th>\n",
              "      <th>Инвестиции_млн_руб</th>\n",
              "    </tr>\n",
              "  </thead>\n",
              "  <tbody>\n",
              "    <tr>\n",
              "      <th>count</th>\n",
              "      <td>62.000000</td>\n",
              "      <td>62.000000</td>\n",
              "      <td>62.000000</td>\n",
              "      <td>62.000000</td>\n",
              "      <td>62.000000</td>\n",
              "      <td>62.000000</td>\n",
              "    </tr>\n",
              "    <tr>\n",
              "      <th>mean</th>\n",
              "      <td>13351.790323</td>\n",
              "      <td>35038.895161</td>\n",
              "      <td>37510.892663</td>\n",
              "      <td>5300.632085</td>\n",
              "      <td>1926.572945</td>\n",
              "      <td>3447.620306</td>\n",
              "    </tr>\n",
              "    <tr>\n",
              "      <th>std</th>\n",
              "      <td>12388.285559</td>\n",
              "      <td>7830.097138</td>\n",
              "      <td>53411.919604</td>\n",
              "      <td>5785.758868</td>\n",
              "      <td>1765.144669</td>\n",
              "      <td>6175.213816</td>\n",
              "    </tr>\n",
              "    <tr>\n",
              "      <th>min</th>\n",
              "      <td>1866.000000</td>\n",
              "      <td>24362.500000</td>\n",
              "      <td>407.070500</td>\n",
              "      <td>553.083000</td>\n",
              "      <td>261.684100</td>\n",
              "      <td>39.935000</td>\n",
              "    </tr>\n",
              "    <tr>\n",
              "      <th>25%</th>\n",
              "      <td>5205.000000</td>\n",
              "      <td>29491.550000</td>\n",
              "      <td>5622.500225</td>\n",
              "      <td>1665.874850</td>\n",
              "      <td>847.434450</td>\n",
              "      <td>442.624000</td>\n",
              "    </tr>\n",
              "    <tr>\n",
              "      <th>50%</th>\n",
              "      <td>9221.500000</td>\n",
              "      <td>33238.100000</td>\n",
              "      <td>13982.416700</td>\n",
              "      <td>3536.448500</td>\n",
              "      <td>1376.070450</td>\n",
              "      <td>929.399000</td>\n",
              "    </tr>\n",
              "    <tr>\n",
              "      <th>75%</th>\n",
              "      <td>15484.250000</td>\n",
              "      <td>38003.600000</td>\n",
              "      <td>44577.123875</td>\n",
              "      <td>6075.683900</td>\n",
              "      <td>2451.699650</td>\n",
              "      <td>3465.825250</td>\n",
              "    </tr>\n",
              "    <tr>\n",
              "      <th>max</th>\n",
              "      <td>64793.000000</td>\n",
              "      <td>59152.200000</td>\n",
              "      <td>281343.335800</td>\n",
              "      <td>29349.209800</td>\n",
              "      <td>9611.746800</td>\n",
              "      <td>30692.197000</td>\n",
              "    </tr>\n",
              "  </tbody>\n",
              "</table>\n",
              "</div>\n",
              "      <button class=\"colab-df-convert\" onclick=\"convertToInteractive('df-d378fb83-f49c-4ba5-a535-22937e6c4256')\"\n",
              "              title=\"Convert this dataframe to an interactive table.\"\n",
              "              style=\"display:none;\">\n",
              "        \n",
              "  <svg xmlns=\"http://www.w3.org/2000/svg\" height=\"24px\"viewBox=\"0 0 24 24\"\n",
              "       width=\"24px\">\n",
              "    <path d=\"M0 0h24v24H0V0z\" fill=\"none\"/>\n",
              "    <path d=\"M18.56 5.44l.94 2.06.94-2.06 2.06-.94-2.06-.94-.94-2.06-.94 2.06-2.06.94zm-11 1L8.5 8.5l.94-2.06 2.06-.94-2.06-.94L8.5 2.5l-.94 2.06-2.06.94zm10 10l.94 2.06.94-2.06 2.06-.94-2.06-.94-.94-2.06-.94 2.06-2.06.94z\"/><path d=\"M17.41 7.96l-1.37-1.37c-.4-.4-.92-.59-1.43-.59-.52 0-1.04.2-1.43.59L10.3 9.45l-7.72 7.72c-.78.78-.78 2.05 0 2.83L4 21.41c.39.39.9.59 1.41.59.51 0 1.02-.2 1.41-.59l7.78-7.78 2.81-2.81c.8-.78.8-2.07 0-2.86zM5.41 20L4 18.59l7.72-7.72 1.47 1.35L5.41 20z\"/>\n",
              "  </svg>\n",
              "      </button>\n",
              "      \n",
              "  <style>\n",
              "    .colab-df-container {\n",
              "      display:flex;\n",
              "      flex-wrap:wrap;\n",
              "      gap: 12px;\n",
              "    }\n",
              "\n",
              "    .colab-df-convert {\n",
              "      background-color: #E8F0FE;\n",
              "      border: none;\n",
              "      border-radius: 50%;\n",
              "      cursor: pointer;\n",
              "      display: none;\n",
              "      fill: #1967D2;\n",
              "      height: 32px;\n",
              "      padding: 0 0 0 0;\n",
              "      width: 32px;\n",
              "    }\n",
              "\n",
              "    .colab-df-convert:hover {\n",
              "      background-color: #E2EBFA;\n",
              "      box-shadow: 0px 1px 2px rgba(60, 64, 67, 0.3), 0px 1px 3px 1px rgba(60, 64, 67, 0.15);\n",
              "      fill: #174EA6;\n",
              "    }\n",
              "\n",
              "    [theme=dark] .colab-df-convert {\n",
              "      background-color: #3B4455;\n",
              "      fill: #D2E3FC;\n",
              "    }\n",
              "\n",
              "    [theme=dark] .colab-df-convert:hover {\n",
              "      background-color: #434B5C;\n",
              "      box-shadow: 0px 1px 3px 1px rgba(0, 0, 0, 0.15);\n",
              "      filter: drop-shadow(0px 1px 2px rgba(0, 0, 0, 0.3));\n",
              "      fill: #FFFFFF;\n",
              "    }\n",
              "  </style>\n",
              "\n",
              "      <script>\n",
              "        const buttonEl =\n",
              "          document.querySelector('#df-d378fb83-f49c-4ba5-a535-22937e6c4256 button.colab-df-convert');\n",
              "        buttonEl.style.display =\n",
              "          google.colab.kernel.accessAllowed ? 'block' : 'none';\n",
              "\n",
              "        async function convertToInteractive(key) {\n",
              "          const element = document.querySelector('#df-d378fb83-f49c-4ba5-a535-22937e6c4256');\n",
              "          const dataTable =\n",
              "            await google.colab.kernel.invokeFunction('convertToInteractive',\n",
              "                                                     [key], {});\n",
              "          if (!dataTable) return;\n",
              "\n",
              "          const docLinkHtml = 'Like what you see? Visit the ' +\n",
              "            '<a target=\"_blank\" href=https://colab.research.google.com/notebooks/data_table.ipynb>data table notebook</a>'\n",
              "            + ' to learn more about interactive tables.';\n",
              "          element.innerHTML = '';\n",
              "          dataTable['output_type'] = 'display_data';\n",
              "          await google.colab.output.renderOutput(dataTable, element);\n",
              "          const docLink = document.createElement('div');\n",
              "          docLink.innerHTML = docLinkHtml;\n",
              "          element.appendChild(docLink);\n",
              "        }\n",
              "      </script>\n",
              "    </div>\n",
              "  </div>\n",
              "  "
            ]
          },
          "metadata": {},
          "execution_count": 21
        }
      ]
    },
    {
      "cell_type": "code",
      "source": [
        "data.columns"
      ],
      "metadata": {
        "colab": {
          "base_uri": "https://localhost:8080/"
        },
        "id": "dPLbTo_N4jCy",
        "outputId": "440c39d7-1eee-4211-8f84-8194b1303a9c"
      },
      "execution_count": 22,
      "outputs": [
        {
          "output_type": "execute_result",
          "data": {
            "text/plain": [
              "Index(['Регион', 'Муниципалитет', 'ССЧ_чел', 'СредняяЗарплата_руб',\n",
              "       'Отгрузка_млн_руб', 'ОборотТорговли_млн_руб', 'БюджетРасходы_млн_руб',\n",
              "       'Инвестиции_млн_руб'],\n",
              "      dtype='object')"
            ]
          },
          "metadata": {},
          "execution_count": 22
        }
      ]
    },
    {
      "cell_type": "code",
      "source": [
        "col_names = ['Region', 'City', 'WorkCount', 'AvgSalary',\n",
        "       'Production', 'Retail', 'BudgetSpends',\n",
        "       'Investment']"
      ],
      "metadata": {
        "id": "NVQHmp8p4nuG"
      },
      "execution_count": 25,
      "outputs": []
    },
    {
      "cell_type": "code",
      "source": [
        "data.columns = col_names\n",
        "data.head()"
      ],
      "metadata": {
        "colab": {
          "base_uri": "https://localhost:8080/",
          "height": 206
        },
        "id": "LeQ_R_pB5Hmi",
        "outputId": "2bea6f24-24af-4983-ae12-8c6b02574a14"
      },
      "execution_count": 26,
      "outputs": [
        {
          "output_type": "execute_result",
          "data": {
            "text/plain": [
              "       Region     City  WorkCount  AvgSalary  Production     Retail  \\\n",
              "0  Ивановская   Вичуга       4644    24362.5   1569.9801  1938.6381   \n",
              "1  Ивановская  Кинешма      12075    27299.0   7772.1423  4852.5725   \n",
              "2  Ивановская    Кохма       2733    27163.4   2937.9856  1700.0135   \n",
              "3  Ивановская  Тейково       5395    27988.7   6710.2328  2309.6860   \n",
              "4  Ивановская      Шуя       9402    30067.4  24950.8141  4104.0293   \n",
              "\n",
              "   BudgetSpends  Investment  \n",
              "0      728.6035     204.065  \n",
              "1     1977.6431     995.331  \n",
              "2      630.7619     467.665  \n",
              "3      758.5690     275.265  \n",
              "4     1188.5295     863.467  "
            ],
            "text/html": [
              "\n",
              "  <div id=\"df-69d7a5cd-3753-48f0-a74a-0f7160c33b35\">\n",
              "    <div class=\"colab-df-container\">\n",
              "      <div>\n",
              "<style scoped>\n",
              "    .dataframe tbody tr th:only-of-type {\n",
              "        vertical-align: middle;\n",
              "    }\n",
              "\n",
              "    .dataframe tbody tr th {\n",
              "        vertical-align: top;\n",
              "    }\n",
              "\n",
              "    .dataframe thead th {\n",
              "        text-align: right;\n",
              "    }\n",
              "</style>\n",
              "<table border=\"1\" class=\"dataframe\">\n",
              "  <thead>\n",
              "    <tr style=\"text-align: right;\">\n",
              "      <th></th>\n",
              "      <th>Region</th>\n",
              "      <th>City</th>\n",
              "      <th>WorkCount</th>\n",
              "      <th>AvgSalary</th>\n",
              "      <th>Production</th>\n",
              "      <th>Retail</th>\n",
              "      <th>BudgetSpends</th>\n",
              "      <th>Investment</th>\n",
              "    </tr>\n",
              "  </thead>\n",
              "  <tbody>\n",
              "    <tr>\n",
              "      <th>0</th>\n",
              "      <td>Ивановская</td>\n",
              "      <td>Вичуга</td>\n",
              "      <td>4644</td>\n",
              "      <td>24362.5</td>\n",
              "      <td>1569.9801</td>\n",
              "      <td>1938.6381</td>\n",
              "      <td>728.6035</td>\n",
              "      <td>204.065</td>\n",
              "    </tr>\n",
              "    <tr>\n",
              "      <th>1</th>\n",
              "      <td>Ивановская</td>\n",
              "      <td>Кинешма</td>\n",
              "      <td>12075</td>\n",
              "      <td>27299.0</td>\n",
              "      <td>7772.1423</td>\n",
              "      <td>4852.5725</td>\n",
              "      <td>1977.6431</td>\n",
              "      <td>995.331</td>\n",
              "    </tr>\n",
              "    <tr>\n",
              "      <th>2</th>\n",
              "      <td>Ивановская</td>\n",
              "      <td>Кохма</td>\n",
              "      <td>2733</td>\n",
              "      <td>27163.4</td>\n",
              "      <td>2937.9856</td>\n",
              "      <td>1700.0135</td>\n",
              "      <td>630.7619</td>\n",
              "      <td>467.665</td>\n",
              "    </tr>\n",
              "    <tr>\n",
              "      <th>3</th>\n",
              "      <td>Ивановская</td>\n",
              "      <td>Тейково</td>\n",
              "      <td>5395</td>\n",
              "      <td>27988.7</td>\n",
              "      <td>6710.2328</td>\n",
              "      <td>2309.6860</td>\n",
              "      <td>758.5690</td>\n",
              "      <td>275.265</td>\n",
              "    </tr>\n",
              "    <tr>\n",
              "      <th>4</th>\n",
              "      <td>Ивановская</td>\n",
              "      <td>Шуя</td>\n",
              "      <td>9402</td>\n",
              "      <td>30067.4</td>\n",
              "      <td>24950.8141</td>\n",
              "      <td>4104.0293</td>\n",
              "      <td>1188.5295</td>\n",
              "      <td>863.467</td>\n",
              "    </tr>\n",
              "  </tbody>\n",
              "</table>\n",
              "</div>\n",
              "      <button class=\"colab-df-convert\" onclick=\"convertToInteractive('df-69d7a5cd-3753-48f0-a74a-0f7160c33b35')\"\n",
              "              title=\"Convert this dataframe to an interactive table.\"\n",
              "              style=\"display:none;\">\n",
              "        \n",
              "  <svg xmlns=\"http://www.w3.org/2000/svg\" height=\"24px\"viewBox=\"0 0 24 24\"\n",
              "       width=\"24px\">\n",
              "    <path d=\"M0 0h24v24H0V0z\" fill=\"none\"/>\n",
              "    <path d=\"M18.56 5.44l.94 2.06.94-2.06 2.06-.94-2.06-.94-.94-2.06-.94 2.06-2.06.94zm-11 1L8.5 8.5l.94-2.06 2.06-.94-2.06-.94L8.5 2.5l-.94 2.06-2.06.94zm10 10l.94 2.06.94-2.06 2.06-.94-2.06-.94-.94-2.06-.94 2.06-2.06.94z\"/><path d=\"M17.41 7.96l-1.37-1.37c-.4-.4-.92-.59-1.43-.59-.52 0-1.04.2-1.43.59L10.3 9.45l-7.72 7.72c-.78.78-.78 2.05 0 2.83L4 21.41c.39.39.9.59 1.41.59.51 0 1.02-.2 1.41-.59l7.78-7.78 2.81-2.81c.8-.78.8-2.07 0-2.86zM5.41 20L4 18.59l7.72-7.72 1.47 1.35L5.41 20z\"/>\n",
              "  </svg>\n",
              "      </button>\n",
              "      \n",
              "  <style>\n",
              "    .colab-df-container {\n",
              "      display:flex;\n",
              "      flex-wrap:wrap;\n",
              "      gap: 12px;\n",
              "    }\n",
              "\n",
              "    .colab-df-convert {\n",
              "      background-color: #E8F0FE;\n",
              "      border: none;\n",
              "      border-radius: 50%;\n",
              "      cursor: pointer;\n",
              "      display: none;\n",
              "      fill: #1967D2;\n",
              "      height: 32px;\n",
              "      padding: 0 0 0 0;\n",
              "      width: 32px;\n",
              "    }\n",
              "\n",
              "    .colab-df-convert:hover {\n",
              "      background-color: #E2EBFA;\n",
              "      box-shadow: 0px 1px 2px rgba(60, 64, 67, 0.3), 0px 1px 3px 1px rgba(60, 64, 67, 0.15);\n",
              "      fill: #174EA6;\n",
              "    }\n",
              "\n",
              "    [theme=dark] .colab-df-convert {\n",
              "      background-color: #3B4455;\n",
              "      fill: #D2E3FC;\n",
              "    }\n",
              "\n",
              "    [theme=dark] .colab-df-convert:hover {\n",
              "      background-color: #434B5C;\n",
              "      box-shadow: 0px 1px 3px 1px rgba(0, 0, 0, 0.15);\n",
              "      filter: drop-shadow(0px 1px 2px rgba(0, 0, 0, 0.3));\n",
              "      fill: #FFFFFF;\n",
              "    }\n",
              "  </style>\n",
              "\n",
              "      <script>\n",
              "        const buttonEl =\n",
              "          document.querySelector('#df-69d7a5cd-3753-48f0-a74a-0f7160c33b35 button.colab-df-convert');\n",
              "        buttonEl.style.display =\n",
              "          google.colab.kernel.accessAllowed ? 'block' : 'none';\n",
              "\n",
              "        async function convertToInteractive(key) {\n",
              "          const element = document.querySelector('#df-69d7a5cd-3753-48f0-a74a-0f7160c33b35');\n",
              "          const dataTable =\n",
              "            await google.colab.kernel.invokeFunction('convertToInteractive',\n",
              "                                                     [key], {});\n",
              "          if (!dataTable) return;\n",
              "\n",
              "          const docLinkHtml = 'Like what you see? Visit the ' +\n",
              "            '<a target=\"_blank\" href=https://colab.research.google.com/notebooks/data_table.ipynb>data table notebook</a>'\n",
              "            + ' to learn more about interactive tables.';\n",
              "          element.innerHTML = '';\n",
              "          dataTable['output_type'] = 'display_data';\n",
              "          await google.colab.output.renderOutput(dataTable, element);\n",
              "          const docLink = document.createElement('div');\n",
              "          docLink.innerHTML = docLinkHtml;\n",
              "          element.appendChild(docLink);\n",
              "        }\n",
              "      </script>\n",
              "    </div>\n",
              "  </div>\n",
              "  "
            ]
          },
          "metadata": {},
          "execution_count": 26
        }
      ]
    },
    {
      "cell_type": "code",
      "source": [
        "target_col = 'Investment'"
      ],
      "metadata": {
        "id": "m2xcj8A-5gwt"
      },
      "execution_count": 27,
      "outputs": []
    },
    {
      "cell_type": "code",
      "source": [
        "feature_cols = ['WorkCount', 'AvgSalary', 'Production', 'Retail', 'BudgetSpends']"
      ],
      "metadata": {
        "id": "GQLoU01b5nAd"
      },
      "execution_count": 28,
      "outputs": []
    },
    {
      "cell_type": "markdown",
      "source": [
        "# Разведочный анализ данных"
      ],
      "metadata": {
        "id": "1GD2YAwr6E1Z"
      }
    },
    {
      "cell_type": "markdown",
      "source": [
        "### Распределение целевой величины (Investment)"
      ],
      "metadata": {
        "id": "L5DwejDe6KGg"
      }
    },
    {
      "cell_type": "code",
      "source": [
        "sns.histplot(data.Investment, kde = True)"
      ],
      "metadata": {
        "colab": {
          "base_uri": "https://localhost:8080/",
          "height": 303
        },
        "id": "6rFnRWva5zT3",
        "outputId": "2cbfe982-1fc6-4c78-c9ab-157e0af0fac9"
      },
      "execution_count": 31,
      "outputs": [
        {
          "output_type": "execute_result",
          "data": {
            "text/plain": [
              "<matplotlib.axes._subplots.AxesSubplot at 0x7fc9d7ca92d0>"
            ]
          },
          "metadata": {},
          "execution_count": 31
        },
        {
          "output_type": "display_data",
          "data": {
            "text/plain": [
              "<Figure size 432x288 with 1 Axes>"
            ],
            "image/png": "[encoded data removed]"
          },
          "metadata": {
            "needs_background": "light"
          }
        }
      ]
    },
    {
      "cell_type": "code",
      "source": [
        "sns.boxplot(data.Investment)"
      ],
      "metadata": {
        "colab": {
          "base_uri": "https://localhost:8080/",
          "height": 359
        },
        "id": "aFinq3M2657X",
        "outputId": "c139fcbb-2deb-4b85-8316-973e1697c8f0"
      },
      "execution_count": 32,
      "outputs": [
        {
          "output_type": "stream",
          "name": "stderr",
          "text": [
            "/usr/local/lib/python3.7/dist-packages/seaborn/_decorators.py:43: FutureWarning: Pass the following variable as a keyword arg: x. From version 0.12, the only valid positional argument will be `data`, and passing other arguments without an explicit keyword will result in an error or misinterpretation.\n",
            "  FutureWarning\n"
          ]
        },
        {
          "output_type": "execute_result",
          "data": {
            "text/plain": [
              "<matplotlib.axes._subplots.AxesSubplot at 0x7fc9d7b58110>"
            ]
          },
          "metadata": {},
          "execution_count": 32
        },
        {
          "output_type": "display_data",
          "data": {
            "text/plain": [
              "<Figure size 432x288 with 1 Axes>"
            ],
            "image/png": "[encoded data removed]"
          },
          "metadata": {
            "needs_background": "light"
          }
        }
      ]
    },
    {
      "cell_type": "code",
      "source": [
        "data.Investment.describe()"
      ],
      "metadata": {
        "colab": {
          "base_uri": "https://localhost:8080/"
        },
        "id": "KYI4KS-t7Iqn",
        "outputId": "9e362d67-b5fe-4951-ca45-c1022d78df35"
      },
      "execution_count": 33,
      "outputs": [
        {
          "output_type": "execute_result",
          "data": {
            "text/plain": [
              "count       62.000000\n",
              "mean      3447.620306\n",
              "std       6175.213816\n",
              "min         39.935000\n",
              "25%        442.624000\n",
              "50%        929.399000\n",
              "75%       3465.825250\n",
              "max      30692.197000\n",
              "Name: Investment, dtype: float64"
            ]
          },
          "metadata": {},
          "execution_count": 33
        }
      ]
    },
    {
      "cell_type": "code",
      "source": [
        "for feat in feature_cols:\n",
        "    print(f\"invesment vs {feat}\")\n",
        "    plt.figure(figsize = (9,6))\n",
        "    sns.scatterplot(x = data[feat], y = data.Investment)\n",
        "    plt.xlabel(feat)\n",
        "    plt.ylabel('investment')\n",
        "    plt.show()"
      ],
      "metadata": {
        "colab": {
          "base_uri": "https://localhost:8080/",
          "height": 1000
        },
        "id": "Oj8Ehgpr7l27",
        "outputId": "3d8c09dc-7720-4c4f-ab8d-f21e1f904253"
      },
      "execution_count": 38,
      "outputs": [
        {
          "output_type": "stream",
          "name": "stdout",
          "text": [
            "invesment vs WorkCount\n"
          ]
        },
        {
          "output_type": "display_data",
          "data": {
            "text/plain": [
              "<Figure size 648x432 with 1 Axes>"
            ],
            "image/png": "[encoded data removed]"
          },
          "metadata": {
            "needs_background": "light"
          }
        },
        {
          "output_type": "stream",
          "name": "stdout",
          "text": [
            "invesment vs AvgSalary\n"
          ]
        },
        {
          "output_type": "display_data",
          "data": {
            "text/plain": [
              "<Figure size 648x432 with 1 Axes>"
            ],
            "image/png": "[encoded data removed]"
          },
          "metadata": {
            "needs_background": "light"
          }
        },
        {
          "output_type": "stream",
          "name": "stdout",
          "text": [
            "invesment vs Production\n"
          ]
        },
        {
          "output_type": "display_data",
          "data": {
            "text/plain": [
              "<Figure size 648x432 with 1 Axes>"
            ],
            "image/png": "[encoded data removed]"
          },
          "metadata": {
            "needs_background": "light"
          }
        },
        {
          "output_type": "stream",
          "name": "stdout",
          "text": [
            "invesment vs Retail\n"
          ]
        },
        {
          "output_type": "display_data",
          "data": {
            "text/plain": [
              "<Figure size 648x432 with 1 Axes>"
            ],
            "image/png": "[encoded data removed]"
          },
          "metadata": {
            "needs_background": "light"
          }
        },
        {
          "output_type": "stream",
          "name": "stdout",
          "text": [
            "invesment vs BudgetSpends\n"
          ]
        },
        {
          "output_type": "display_data",
          "data": {
            "text/plain": [
              "<Figure size 648x432 with 1 Axes>"
            ],
            "image/png": "[encoded data removed]"
          },
          "metadata": {
            "needs_background": "light"
          }
        }
      ]
    },
    {
      "cell_type": "markdown",
      "source": [
        "### Распределение признаков"
      ],
      "metadata": {
        "id": "LEqFkmce9TDK"
      }
    },
    {
      "cell_type": "code",
      "source": [
        "# описательная статистика для признаков\n",
        "data[feature_cols].describe()"
      ],
      "metadata": {
        "colab": {
          "base_uri": "https://localhost:8080/",
          "height": 300
        },
        "id": "XN78fAkW9ZpM",
        "outputId": "cecd9658-7d9e-4c15-ff7f-98cc93f7a77e"
      },
      "execution_count": 39,
      "outputs": [
        {
          "output_type": "execute_result",
          "data": {
            "text/plain": [
              "          WorkCount     AvgSalary     Production        Retail  BudgetSpends\n",
              "count     62.000000     62.000000      62.000000     62.000000     62.000000\n",
              "mean   13351.790323  35038.895161   37510.892663   5300.632085   1926.572945\n",
              "std    12388.285559   7830.097138   53411.919604   5785.758868   1765.144669\n",
              "min     1866.000000  24362.500000     407.070500    553.083000    261.684100\n",
              "25%     5205.000000  29491.550000    5622.500225   1665.874850    847.434450\n",
              "50%     9221.500000  33238.100000   13982.416700   3536.448500   1376.070450\n",
              "75%    15484.250000  38003.600000   44577.123875   6075.683900   2451.699650\n",
              "max    64793.000000  59152.200000  281343.335800  29349.209800   9611.746800"
            ],
            "text/html": [
              "\n",
              "  <div id=\"df-c71df200-6674-450f-ad43-17ddfa5755dc\">\n",
              "    <div class=\"colab-df-container\">\n",
              "      <div>\n",
              "<style scoped>\n",
              "    .dataframe tbody tr th:only-of-type {\n",
              "        vertical-align: middle;\n",
              "    }\n",
              "\n",
              "    .dataframe tbody tr th {\n",
              "        vertical-align: top;\n",
              "    }\n",
              "\n",
              "    .dataframe thead th {\n",
              "        text-align: right;\n",
              "    }\n",
              "</style>\n",
              "<table border=\"1\" class=\"dataframe\">\n",
              "  <thead>\n",
              "    <tr style=\"text-align: right;\">\n",
              "      <th></th>\n",
              "      <th>WorkCount</th>\n",
              "      <th>AvgSalary</th>\n",
              "      <th>Production</th>\n",
              "      <th>Retail</th>\n",
              "      <th>BudgetSpends</th>\n",
              "    </tr>\n",
              "  </thead>\n",
              "  <tbody>\n",
              "    <tr>\n",
              "      <th>count</th>\n",
              "      <td>62.000000</td>\n",
              "      <td>62.000000</td>\n",
              "      <td>62.000000</td>\n",
              "      <td>62.000000</td>\n",
              "      <td>62.000000</td>\n",
              "    </tr>\n",
              "    <tr>\n",
              "      <th>mean</th>\n",
              "      <td>13351.790323</td>\n",
              "      <td>35038.895161</td>\n",
              "      <td>37510.892663</td>\n",
              "      <td>5300.632085</td>\n",
              "      <td>1926.572945</td>\n",
              "    </tr>\n",
              "    <tr>\n",
              "      <th>std</th>\n",
              "      <td>12388.285559</td>\n",
              "      <td>7830.097138</td>\n",
              "      <td>53411.919604</td>\n",
              "      <td>5785.758868</td>\n",
              "      <td>1765.144669</td>\n",
              "    </tr>\n",
              "    <tr>\n",
              "      <th>min</th>\n",
              "      <td>1866.000000</td>\n",
              "      <td>24362.500000</td>\n",
              "      <td>407.070500</td>\n",
              "      <td>553.083000</td>\n",
              "      <td>261.684100</td>\n",
              "    </tr>\n",
              "    <tr>\n",
              "      <th>25%</th>\n",
              "      <td>5205.000000</td>\n",
              "      <td>29491.550000</td>\n",
              "      <td>5622.500225</td>\n",
              "      <td>1665.874850</td>\n",
              "      <td>847.434450</td>\n",
              "    </tr>\n",
              "    <tr>\n",
              "      <th>50%</th>\n",
              "      <td>9221.500000</td>\n",
              "      <td>33238.100000</td>\n",
              "      <td>13982.416700</td>\n",
              "      <td>3536.448500</td>\n",
              "      <td>1376.070450</td>\n",
              "    </tr>\n",
              "    <tr>\n",
              "      <th>75%</th>\n",
              "      <td>15484.250000</td>\n",
              "      <td>38003.600000</td>\n",
              "      <td>44577.123875</td>\n",
              "      <td>6075.683900</td>\n",
              "      <td>2451.699650</td>\n",
              "    </tr>\n",
              "    <tr>\n",
              "      <th>max</th>\n",
              "      <td>64793.000000</td>\n",
              "      <td>59152.200000</td>\n",
              "      <td>281343.335800</td>\n",
              "      <td>29349.209800</td>\n",
              "      <td>9611.746800</td>\n",
              "    </tr>\n",
              "  </tbody>\n",
              "</table>\n",
              "</div>\n",
              "      <button class=\"colab-df-convert\" onclick=\"convertToInteractive('df-c71df200-6674-450f-ad43-17ddfa5755dc')\"\n",
              "              title=\"Convert this dataframe to an interactive table.\"\n",
              "              style=\"display:none;\">\n",
              "        \n",
              "  <svg xmlns=\"http://www.w3.org/2000/svg\" height=\"24px\"viewBox=\"0 0 24 24\"\n",
              "       width=\"24px\">\n",
              "    <path d=\"M0 0h24v24H0V0z\" fill=\"none\"/>\n",
              "    <path d=\"M18.56 5.44l.94 2.06.94-2.06 2.06-.94-2.06-.94-.94-2.06-.94 2.06-2.06.94zm-11 1L8.5 8.5l.94-2.06 2.06-.94-2.06-.94L8.5 2.5l-.94 2.06-2.06.94zm10 10l.94 2.06.94-2.06 2.06-.94-2.06-.94-.94-2.06-.94 2.06-2.06.94z\"/><path d=\"M17.41 7.96l-1.37-1.37c-.4-.4-.92-.59-1.43-.59-.52 0-1.04.2-1.43.59L10.3 9.45l-7.72 7.72c-.78.78-.78 2.05 0 2.83L4 21.41c.39.39.9.59 1.41.59.51 0 1.02-.2 1.41-.59l7.78-7.78 2.81-2.81c.8-.78.8-2.07 0-2.86zM5.41 20L4 18.59l7.72-7.72 1.47 1.35L5.41 20z\"/>\n",
              "  </svg>\n",
              "      </button>\n",
              "      \n",
              "  <style>\n",
              "    .colab-df-container {\n",
              "      display:flex;\n",
              "      flex-wrap:wrap;\n",
              "      gap: 12px;\n",
              "    }\n",
              "\n",
              "    .colab-df-convert {\n",
              "      background-color: #E8F0FE;\n",
              "      border: none;\n",
              "      border-radius: 50%;\n",
              "      cursor: pointer;\n",
              "      display: none;\n",
              "      fill: #1967D2;\n",
              "      height: 32px;\n",
              "      padding: 0 0 0 0;\n",
              "      width: 32px;\n",
              "    }\n",
              "\n",
              "    .colab-df-convert:hover {\n",
              "      background-color: #E2EBFA;\n",
              "      box-shadow: 0px 1px 2px rgba(60, 64, 67, 0.3), 0px 1px 3px 1px rgba(60, 64, 67, 0.15);\n",
              "      fill: #174EA6;\n",
              "    }\n",
              "\n",
              "    [theme=dark] .colab-df-convert {\n",
              "      background-color: #3B4455;\n",
              "      fill: #D2E3FC;\n",
              "    }\n",
              "\n",
              "    [theme=dark] .colab-df-convert:hover {\n",
              "      background-color: #434B5C;\n",
              "      box-shadow: 0px 1px 3px 1px rgba(0, 0, 0, 0.15);\n",
              "      filter: drop-shadow(0px 1px 2px rgba(0, 0, 0, 0.3));\n",
              "      fill: #FFFFFF;\n",
              "    }\n",
              "  </style>\n",
              "\n",
              "      <script>\n",
              "        const buttonEl =\n",
              "          document.querySelector('#df-c71df200-6674-450f-ad43-17ddfa5755dc button.colab-df-convert');\n",
              "        buttonEl.style.display =\n",
              "          google.colab.kernel.accessAllowed ? 'block' : 'none';\n",
              "\n",
              "        async function convertToInteractive(key) {\n",
              "          const element = document.querySelector('#df-c71df200-6674-450f-ad43-17ddfa5755dc');\n",
              "          const dataTable =\n",
              "            await google.colab.kernel.invokeFunction('convertToInteractive',\n",
              "                                                     [key], {});\n",
              "          if (!dataTable) return;\n",
              "\n",
              "          const docLinkHtml = 'Like what you see? Visit the ' +\n",
              "            '<a target=\"_blank\" href=https://colab.research.google.com/notebooks/data_table.ipynb>data table notebook</a>'\n",
              "            + ' to learn more about interactive tables.';\n",
              "          element.innerHTML = '';\n",
              "          dataTable['output_type'] = 'display_data';\n",
              "          await google.colab.output.renderOutput(dataTable, element);\n",
              "          const docLink = document.createElement('div');\n",
              "          docLink.innerHTML = docLinkHtml;\n",
              "          element.appendChild(docLink);\n",
              "        }\n",
              "      </script>\n",
              "    </div>\n",
              "  </div>\n",
              "  "
            ]
          },
          "metadata": {},
          "execution_count": 39
        }
      ]
    },
    {
      "cell_type": "code",
      "source": [
        "for feat in feature_cols:\n",
        "    fig, [ax1, ax2] = plt.subplots(nrows = 1, ncols = 2, figsize = (12,6))\n",
        "    plt.title(f'Признак - {feat}')\n",
        "    sns.histplot(data[feat], kde = True, ax = ax1)\n",
        "    sns.boxplot(data[feat], ax = ax2)"
      ],
      "metadata": {
        "colab": {
          "base_uri": "https://localhost:8080/",
          "height": 1000
        },
        "id": "AWkn0zbO9zQy",
        "outputId": "5342e293-7f1c-4f28-f863-5f404717b6bc"
      },
      "execution_count": 52,
      "outputs": [
        {
          "output_type": "stream",
          "name": "stderr",
          "text": [
            "/usr/local/lib/python3.7/dist-packages/seaborn/_decorators.py:43: FutureWarning: Pass the following variable as a keyword arg: x. From version 0.12, the only valid positional argument will be `data`, and passing other arguments without an explicit keyword will result in an error or misinterpretation.\n",
            "  FutureWarning\n",
            "/usr/local/lib/python3.7/dist-packages/seaborn/_decorators.py:43: FutureWarning: Pass the following variable as a keyword arg: x. From version 0.12, the only valid positional argument will be `data`, and passing other arguments without an explicit keyword will result in an error or misinterpretation.\n",
            "  FutureWarning\n",
            "/usr/local/lib/python3.7/dist-packages/seaborn/_decorators.py:43: FutureWarning: Pass the following variable as a keyword arg: x. From version 0.12, the only valid positional argument will be `data`, and passing other arguments without an explicit keyword will result in an error or misinterpretation.\n",
            "  FutureWarning\n",
            "/usr/local/lib/python3.7/dist-packages/seaborn/_decorators.py:43: FutureWarning: Pass the following variable as a keyword arg: x. From version 0.12, the only valid positional argument will be `data`, and passing other arguments without an explicit keyword will result in an error or misinterpretation.\n",
            "  FutureWarning\n",
            "/usr/local/lib/python3.7/dist-packages/seaborn/_decorators.py:43: FutureWarning: Pass the following variable as a keyword arg: x. From version 0.12, the only valid positional argument will be `data`, and passing other arguments without an explicit keyword will result in an error or misinterpretation.\n",
            "  FutureWarning\n"
          ]
        },
        {
          "output_type": "display_data",
          "data": {
            "text/plain": [
              "<Figure size 864x432 with 2 Axes>"
            ],
            "image/png": "[encoded data removed]"
          },
          "metadata": {
            "needs_background": "light"
          }
        },
        {
          "output_type": "display_data",
          "data": {
            "text/plain": [
              "<Figure size 864x432 with 2 Axes>"
            ],
            "image/png": "[encoded data removed]"
          },
          "metadata": {
            "needs_background": "light"
          }
        },
        {
          "output_type": "display_data",
          "data": {
            "text/plain": [
              "<Figure size 864x432 with 2 Axes>"
            ],
            "image/png": "[encoded data removed]"
          },
          "metadata": {
            "needs_background": "light"
          }
        },
        {
          "output_type": "display_data",
          "data": {
            "text/plain": [
              "<Figure size 864x432 with 2 Axes>"
            ],
            "image/png": "[encoded data removed]"
          },
          "metadata": {
            "needs_background": "light"
          }
        },
        {
          "output_type": "display_data",
          "data": {
            "text/plain": [
              "<Figure size 864x432 with 2 Axes>"
            ],
            "image/png": "[encoded data removed]"
          },
          "metadata": {
            "needs_background": "light"
          }
        }
      ]
    }
  ]
}