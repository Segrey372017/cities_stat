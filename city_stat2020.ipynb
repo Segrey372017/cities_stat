{
  "nbformat": 4,
  "nbformat_minor": 0,
  "metadata": {
    "colab": {
      "name": "city_stat2020.ipynb",
      "provenance": [],
      "collapsed_sections": [],
      "toc_visible": true,
      "authorship_tag": "ABX9TyPFs7hkUuNp2nz7IhS9LYCG",
      "include_colab_link": true
    },
    "kernelspec": {
      "name": "python3",
      "display_name": "Python 3"
    },
    "language_info": {
      "name": "python"
    }
  },
  "cells": [
    {
      "cell_type": "markdown",
      "metadata": {
        "id": "view-in-github",
        "colab_type": "text"
      },
      "source": [
        "<a href=\"https://colab.research.google.com/github/Segrey372017/cities_stat/blob/main/city_stat2020.ipynb\" target=\"_parent\"><img src=\"https://colab.research.google.com/assets/colab-badge.svg\" alt=\"Open In Colab\"/></a>"
      ]
    },
    {
      "cell_type": "code",
      "execution_count": 1,
      "metadata": {
        "id": "bVcD1IZVycvx"
      },
      "outputs": [],
      "source": [
        "import numpy as np\n",
        "import pandas as pd\n",
        "import matplotlib.pyplot as plt\n",
        "import seaborn as sns\n",
        "import dill\n",
        "sns.set()"
      ]
    },
    {
      "cell_type": "code",
      "source": [
        "from sklearn.preprocessing import StandardScaler\n",
        "from sklearn.model_selection import train_test_split, GridSearchCV\n",
        "from sklearn.linear_model import LinearRegression\n",
        "from sklearn.svm import SVR\n",
        "from sklearn.metrics import r2_score, mean_absolute_error"
      ],
      "metadata": {
        "id": "RFRFQbDsyvlH"
      },
      "execution_count": 2,
      "outputs": []
    },
    {
      "cell_type": "code",
      "source": [
        "from lightgbm import LGBMRegressor"
      ],
      "metadata": {
        "id": "gQIepmoZzMKt"
      },
      "execution_count": 3,
      "outputs": []
    },
    {
      "cell_type": "markdown",
      "source": [
        "# Загрузка и очистка данных"
      ],
      "metadata": {
        "id": "vZ04WZWf59P2"
      }
    },
    {
      "cell_type": "code",
      "source": [
        "!wget -O /content/cities_stat2020.xlsx https://github.com/Segrey372017/cities_stat/raw/main/cities_stat2020.xlsx"
      ],
      "metadata": {
        "colab": {
          "base_uri": "https://localhost:8080/"
        },
        "id": "NmFx2MfL1di6",
        "outputId": "19bb9b39-9868-4c74-ec47-3ca397176f6d"
      },
      "execution_count": 4,
      "outputs": [
        {
          "output_type": "stream",
          "name": "stdout",
          "text": [
            "--2022-08-10 14:00:20--  https://github.com/Segrey372017/cities_stat/raw/main/cities_stat2020.xlsx\n",
            "Resolving github.com (github.com)... 140.82.112.3\n",
            "Connecting to github.com (github.com)|140.82.112.3|:443... connected.\n",
            "HTTP request sent, awaiting response... 302 Found\n",
            "Location: https://raw.githubusercontent.com/Segrey372017/cities_stat/main/cities_stat2020.xlsx [following]\n",
            "--2022-08-10 14:00:20--  https://raw.githubusercontent.com/Segrey372017/cities_stat/main/cities_stat2020.xlsx\n",
            "Resolving raw.githubusercontent.com (raw.githubusercontent.com)... 185.199.108.133, 185.199.109.133, 185.199.110.133, ...\n",
            "Connecting to raw.githubusercontent.com (raw.githubusercontent.com)|185.199.108.133|:443... connected.\n",
            "HTTP request sent, awaiting response... 200 OK\n",
            "Length: 16195 (16K) [application/octet-stream]\n",
            "Saving to: ‘/content/cities_stat2020.xlsx’\n",
            "\n",
            "/content/cities_sta 100%[===================>]  15.82K  --.-KB/s    in 0s      \n",
            "\n",
            "2022-08-10 14:00:20 (57.0 MB/s) - ‘/content/cities_stat2020.xlsx’ saved [16195/16195]\n",
            "\n"
          ]
        }
      ]
    },
    {
      "cell_type": "code",
      "source": [
        "df = pd.read_excel('/content/cities_stat2020.xlsx')"
      ],
      "metadata": {
        "id": "K7YE5rqo2BQh"
      },
      "execution_count": 5,
      "outputs": []
    },
    {
      "cell_type": "code",
      "source": [
        "df.head()"
      ],
      "metadata": {
        "colab": {
          "base_uri": "https://localhost:8080/",
          "height": 206
        },
        "id": "-wsUDygc3da6",
        "outputId": "fdbbe3b7-3327-4760-b2f0-7ba4028ca879"
      },
      "execution_count": 6,
      "outputs": [
        {
          "output_type": "execute_result",
          "data": {
            "text/plain": [
              "       Регион Муниципалитет  ССЧ_чел  СредняяЗарплата_руб  Отгрузка_млн_руб  \\\n",
              "0  Ивановская        Вичуга     4644              24362.5         1569.9801   \n",
              "1  Ивановская       Кинешма    12075              27299.0         7772.1423   \n",
              "2  Ивановская         Кохма     2733              27163.4         2937.9856   \n",
              "3  Ивановская       Тейково     5395              27988.7         6710.2328   \n",
              "4  Ивановская           Шуя     9402              30067.4        24950.8141   \n",
              "\n",
              "   ОборотТорговли_млн_руб  БюджетРасходы_млн_руб  Инвестиции_млн_руб  \n",
              "0               1938.6381               728.6035             204.065  \n",
              "1               4852.5725              1977.6431             995.331  \n",
              "2               1700.0135               630.7619             467.665  \n",
              "3               2309.6860               758.5690             275.265  \n",
              "4               4104.0293              1188.5295             863.467  "
            ],
            "text/html": [
              "\n",
              "  <div id=\"df-76f6259e-fd38-4d68-b35c-480bafe33bb6\">\n",
              "    <div class=\"colab-df-container\">\n",
              "      <div>\n",
              "<style scoped>\n",
              "    .dataframe tbody tr th:only-of-type {\n",
              "        vertical-align: middle;\n",
              "    }\n",
              "\n",
              "    .dataframe tbody tr th {\n",
              "        vertical-align: top;\n",
              "    }\n",
              "\n",
              "    .dataframe thead th {\n",
              "        text-align: right;\n",
              "    }\n",
              "</style>\n",
              "<table border=\"1\" class=\"dataframe\">\n",
              "  <thead>\n",
              "    <tr style=\"text-align: right;\">\n",
              "      <th></th>\n",
              "      <th>Регион</th>\n",
              "      <th>Муниципалитет</th>\n",
              "      <th>ССЧ_чел</th>\n",
              "      <th>СредняяЗарплата_руб</th>\n",
              "      <th>Отгрузка_млн_руб</th>\n",
              "      <th>ОборотТорговли_млн_руб</th>\n",
              "      <th>БюджетРасходы_млн_руб</th>\n",
              "      <th>Инвестиции_млн_руб</th>\n",
              "    </tr>\n",
              "  </thead>\n",
              "  <tbody>\n",
              "    <tr>\n",
              "      <th>0</th>\n",
              "      <td>Ивановская</td>\n",
              "      <td>Вичуга</td>\n",
              "      <td>4644</td>\n",
              "      <td>24362.5</td>\n",
              "      <td>1569.9801</td>\n",
              "      <td>1938.6381</td>\n",
              "      <td>728.6035</td>\n",
              "      <td>204.065</td>\n",
              "    </tr>\n",
              "    <tr>\n",
              "      <th>1</th>\n",
              "      <td>Ивановская</td>\n",
              "      <td>Кинешма</td>\n",
              "      <td>12075</td>\n",
              "      <td>27299.0</td>\n",
              "      <td>7772.1423</td>\n",
              "      <td>4852.5725</td>\n",
              "      <td>1977.6431</td>\n",
              "      <td>995.331</td>\n",
              "    </tr>\n",
              "    <tr>\n",
              "      <th>2</th>\n",
              "      <td>Ивановская</td>\n",
              "      <td>Кохма</td>\n",
              "      <td>2733</td>\n",
              "      <td>27163.4</td>\n",
              "      <td>2937.9856</td>\n",
              "      <td>1700.0135</td>\n",
              "      <td>630.7619</td>\n",
              "      <td>467.665</td>\n",
              "    </tr>\n",
              "    <tr>\n",
              "      <th>3</th>\n",
              "      <td>Ивановская</td>\n",
              "      <td>Тейково</td>\n",
              "      <td>5395</td>\n",
              "      <td>27988.7</td>\n",
              "      <td>6710.2328</td>\n",
              "      <td>2309.6860</td>\n",
              "      <td>758.5690</td>\n",
              "      <td>275.265</td>\n",
              "    </tr>\n",
              "    <tr>\n",
              "      <th>4</th>\n",
              "      <td>Ивановская</td>\n",
              "      <td>Шуя</td>\n",
              "      <td>9402</td>\n",
              "      <td>30067.4</td>\n",
              "      <td>24950.8141</td>\n",
              "      <td>4104.0293</td>\n",
              "      <td>1188.5295</td>\n",
              "      <td>863.467</td>\n",
              "    </tr>\n",
              "  </tbody>\n",
              "</table>\n",
              "</div>\n",
              "      <button class=\"colab-df-convert\" onclick=\"convertToInteractive('df-76f6259e-fd38-4d68-b35c-480bafe33bb6')\"\n",
              "              title=\"Convert this dataframe to an interactive table.\"\n",
              "              style=\"display:none;\">\n",
              "        \n",
              "  <svg xmlns=\"http://www.w3.org/2000/svg\" height=\"24px\"viewBox=\"0 0 24 24\"\n",
              "       width=\"24px\">\n",
              "    <path d=\"M0 0h24v24H0V0z\" fill=\"none\"/>\n",
              "    <path d=\"M18.56 5.44l.94 2.06.94-2.06 2.06-.94-2.06-.94-.94-2.06-.94 2.06-2.06.94zm-11 1L8.5 8.5l.94-2.06 2.06-.94-2.06-.94L8.5 2.5l-.94 2.06-2.06.94zm10 10l.94 2.06.94-2.06 2.06-.94-2.06-.94-.94-2.06-.94 2.06-2.06.94z\"/><path d=\"M17.41 7.96l-1.37-1.37c-.4-.4-.92-.59-1.43-.59-.52 0-1.04.2-1.43.59L10.3 9.45l-7.72 7.72c-.78.78-.78 2.05 0 2.83L4 21.41c.39.39.9.59 1.41.59.51 0 1.02-.2 1.41-.59l7.78-7.78 2.81-2.81c.8-.78.8-2.07 0-2.86zM5.41 20L4 18.59l7.72-7.72 1.47 1.35L5.41 20z\"/>\n",
              "  </svg>\n",
              "      </button>\n",
              "      \n",
              "  <style>\n",
              "    .colab-df-container {\n",
              "      display:flex;\n",
              "      flex-wrap:wrap;\n",
              "      gap: 12px;\n",
              "    }\n",
              "\n",
              "    .colab-df-convert {\n",
              "      background-color: #E8F0FE;\n",
              "      border: none;\n",
              "      border-radius: 50%;\n",
              "      cursor: pointer;\n",
              "      display: none;\n",
              "      fill: #1967D2;\n",
              "      height: 32px;\n",
              "      padding: 0 0 0 0;\n",
              "      width: 32px;\n",
              "    }\n",
              "\n",
              "    .colab-df-convert:hover {\n",
              "      background-color: #E2EBFA;\n",
              "      box-shadow: 0px 1px 2px rgba(60, 64, 67, 0.3), 0px 1px 3px 1px rgba(60, 64, 67, 0.15);\n",
              "      fill: #174EA6;\n",
              "    }\n",
              "\n",
              "    [theme=dark] .colab-df-convert {\n",
              "      background-color: #3B4455;\n",
              "      fill: #D2E3FC;\n",
              "    }\n",
              "\n",
              "    [theme=dark] .colab-df-convert:hover {\n",
              "      background-color: #434B5C;\n",
              "      box-shadow: 0px 1px 3px 1px rgba(0, 0, 0, 0.15);\n",
              "      filter: drop-shadow(0px 1px 2px rgba(0, 0, 0, 0.3));\n",
              "      fill: #FFFFFF;\n",
              "    }\n",
              "  </style>\n",
              "\n",
              "      <script>\n",
              "        const buttonEl =\n",
              "          document.querySelector('#df-76f6259e-fd38-4d68-b35c-480bafe33bb6 button.colab-df-convert');\n",
              "        buttonEl.style.display =\n",
              "          google.colab.kernel.accessAllowed ? 'block' : 'none';\n",
              "\n",
              "        async function convertToInteractive(key) {\n",
              "          const element = document.querySelector('#df-76f6259e-fd38-4d68-b35c-480bafe33bb6');\n",
              "          const dataTable =\n",
              "            await google.colab.kernel.invokeFunction('convertToInteractive',\n",
              "                                                     [key], {});\n",
              "          if (!dataTable) return;\n",
              "\n",
              "          const docLinkHtml = 'Like what you see? Visit the ' +\n",
              "            '<a target=\"_blank\" href=https://colab.research.google.com/notebooks/data_table.ipynb>data table notebook</a>'\n",
              "            + ' to learn more about interactive tables.';\n",
              "          element.innerHTML = '';\n",
              "          dataTable['output_type'] = 'display_data';\n",
              "          await google.colab.output.renderOutput(dataTable, element);\n",
              "          const docLink = document.createElement('div');\n",
              "          docLink.innerHTML = docLinkHtml;\n",
              "          element.appendChild(docLink);\n",
              "        }\n",
              "      </script>\n",
              "    </div>\n",
              "  </div>\n",
              "  "
            ]
          },
          "metadata": {},
          "execution_count": 6
        }
      ]
    },
    {
      "cell_type": "code",
      "source": [
        "df.info()"
      ],
      "metadata": {
        "colab": {
          "base_uri": "https://localhost:8080/"
        },
        "id": "HuUhXSPz3ieH",
        "outputId": "563df689-289d-49f7-fea2-b8645d40ad25"
      },
      "execution_count": 7,
      "outputs": [
        {
          "output_type": "stream",
          "name": "stdout",
          "text": [
            "<class 'pandas.core.frame.DataFrame'>\n",
            "RangeIndex: 68 entries, 0 to 67\n",
            "Data columns (total 8 columns):\n",
            " #   Column                  Non-Null Count  Dtype  \n",
            "---  ------                  --------------  -----  \n",
            " 0   Регион                  68 non-null     object \n",
            " 1   Муниципалитет           68 non-null     object \n",
            " 2   ССЧ_чел                 68 non-null     int64  \n",
            " 3   СредняяЗарплата_руб     68 non-null     float64\n",
            " 4   Отгрузка_млн_руб        68 non-null     float64\n",
            " 5   ОборотТорговли_млн_руб  68 non-null     float64\n",
            " 6   БюджетРасходы_млн_руб   68 non-null     float64\n",
            " 7   Инвестиции_млн_руб      62 non-null     float64\n",
            "dtypes: float64(5), int64(1), object(2)\n",
            "memory usage: 4.4+ KB\n"
          ]
        }
      ]
    },
    {
      "cell_type": "code",
      "source": [
        "df.describe()"
      ],
      "metadata": {
        "colab": {
          "base_uri": "https://localhost:8080/",
          "height": 300
        },
        "id": "h0mX_jTR3tG9",
        "outputId": "39d19bae-6246-4bb7-b34c-f6a4adc5f008"
      },
      "execution_count": 8,
      "outputs": [
        {
          "output_type": "execute_result",
          "data": {
            "text/plain": [
              "            ССЧ_чел  СредняяЗарплата_руб  Отгрузка_млн_руб  \\\n",
              "count     68.000000            68.000000         68.000000   \n",
              "mean   12877.779412         34517.510294      34688.180706   \n",
              "std    12032.665673          7686.802720      51781.509944   \n",
              "min     1866.000000         24362.500000        407.070500   \n",
              "25%     5075.500000         29316.375000       5387.134600   \n",
              "50%     8491.500000         32270.000000      10926.647150   \n",
              "75%    15054.750000         37180.325000      42147.839225   \n",
              "max    64793.000000         59152.200000     281343.335800   \n",
              "\n",
              "       ОборотТорговли_млн_руб  БюджетРасходы_млн_руб  Инвестиции_млн_руб  \n",
              "count               68.000000              68.000000           62.000000  \n",
              "mean              5078.557775            1844.546884         3447.620306  \n",
              "std               5591.837927            1713.315022         6175.213816  \n",
              "min                553.083000             261.684100           39.935000  \n",
              "25%               1682.883550             803.925175          442.624000  \n",
              "50%               3447.332550            1312.376500          929.399000  \n",
              "75%               5900.468300            2335.706750         3465.825250  \n",
              "max              29349.209800            9611.746800        30692.197000  "
            ],
            "text/html": [
              "\n",
              "  <div id=\"df-5a0e7f8e-25d2-4900-90b2-85b4e12043da\">\n",
              "    <div class=\"colab-df-container\">\n",
              "      <div>\n",
              "<style scoped>\n",
              "    .dataframe tbody tr th:only-of-type {\n",
              "        vertical-align: middle;\n",
              "    }\n",
              "\n",
              "    .dataframe tbody tr th {\n",
              "        vertical-align: top;\n",
              "    }\n",
              "\n",
              "    .dataframe thead th {\n",
              "        text-align: right;\n",
              "    }\n",
              "</style>\n",
              "<table border=\"1\" class=\"dataframe\">\n",
              "  <thead>\n",
              "    <tr style=\"text-align: right;\">\n",
              "      <th></th>\n",
              "      <th>ССЧ_чел</th>\n",
              "      <th>СредняяЗарплата_руб</th>\n",
              "      <th>Отгрузка_млн_руб</th>\n",
              "      <th>ОборотТорговли_млн_руб</th>\n",
              "      <th>БюджетРасходы_млн_руб</th>\n",
              "      <th>Инвестиции_млн_руб</th>\n",
              "    </tr>\n",
              "  </thead>\n",
              "  <tbody>\n",
              "    <tr>\n",
              "      <th>count</th>\n",
              "      <td>68.000000</td>\n",
              "      <td>68.000000</td>\n",
              "      <td>68.000000</td>\n",
              "      <td>68.000000</td>\n",
              "      <td>68.000000</td>\n",
              "      <td>62.000000</td>\n",
              "    </tr>\n",
              "    <tr>\n",
              "      <th>mean</th>\n",
              "      <td>12877.779412</td>\n",
              "      <td>34517.510294</td>\n",
              "      <td>34688.180706</td>\n",
              "      <td>5078.557775</td>\n",
              "      <td>1844.546884</td>\n",
              "      <td>3447.620306</td>\n",
              "    </tr>\n",
              "    <tr>\n",
              "      <th>std</th>\n",
              "      <td>12032.665673</td>\n",
              "      <td>7686.802720</td>\n",
              "      <td>51781.509944</td>\n",
              "      <td>5591.837927</td>\n",
              "      <td>1713.315022</td>\n",
              "      <td>6175.213816</td>\n",
              "    </tr>\n",
              "    <tr>\n",
              "      <th>min</th>\n",
              "      <td>1866.000000</td>\n",
              "      <td>24362.500000</td>\n",
              "      <td>407.070500</td>\n",
              "      <td>553.083000</td>\n",
              "      <td>261.684100</td>\n",
              "      <td>39.935000</td>\n",
              "    </tr>\n",
              "    <tr>\n",
              "      <th>25%</th>\n",
              "      <td>5075.500000</td>\n",
              "      <td>29316.375000</td>\n",
              "      <td>5387.134600</td>\n",
              "      <td>1682.883550</td>\n",
              "      <td>803.925175</td>\n",
              "      <td>442.624000</td>\n",
              "    </tr>\n",
              "    <tr>\n",
              "      <th>50%</th>\n",
              "      <td>8491.500000</td>\n",
              "      <td>32270.000000</td>\n",
              "      <td>10926.647150</td>\n",
              "      <td>3447.332550</td>\n",
              "      <td>1312.376500</td>\n",
              "      <td>929.399000</td>\n",
              "    </tr>\n",
              "    <tr>\n",
              "      <th>75%</th>\n",
              "      <td>15054.750000</td>\n",
              "      <td>37180.325000</td>\n",
              "      <td>42147.839225</td>\n",
              "      <td>5900.468300</td>\n",
              "      <td>2335.706750</td>\n",
              "      <td>3465.825250</td>\n",
              "    </tr>\n",
              "    <tr>\n",
              "      <th>max</th>\n",
              "      <td>64793.000000</td>\n",
              "      <td>59152.200000</td>\n",
              "      <td>281343.335800</td>\n",
              "      <td>29349.209800</td>\n",
              "      <td>9611.746800</td>\n",
              "      <td>30692.197000</td>\n",
              "    </tr>\n",
              "  </tbody>\n",
              "</table>\n",
              "</div>\n",
              "      <button class=\"colab-df-convert\" onclick=\"convertToInteractive('df-5a0e7f8e-25d2-4900-90b2-85b4e12043da')\"\n",
              "              title=\"Convert this dataframe to an interactive table.\"\n",
              "              style=\"display:none;\">\n",
              "        \n",
              "  <svg xmlns=\"http://www.w3.org/2000/svg\" height=\"24px\"viewBox=\"0 0 24 24\"\n",
              "       width=\"24px\">\n",
              "    <path d=\"M0 0h24v24H0V0z\" fill=\"none\"/>\n",
              "    <path d=\"M18.56 5.44l.94 2.06.94-2.06 2.06-.94-2.06-.94-.94-2.06-.94 2.06-2.06.94zm-11 1L8.5 8.5l.94-2.06 2.06-.94-2.06-.94L8.5 2.5l-.94 2.06-2.06.94zm10 10l.94 2.06.94-2.06 2.06-.94-2.06-.94-.94-2.06-.94 2.06-2.06.94z\"/><path d=\"M17.41 7.96l-1.37-1.37c-.4-.4-.92-.59-1.43-.59-.52 0-1.04.2-1.43.59L10.3 9.45l-7.72 7.72c-.78.78-.78 2.05 0 2.83L4 21.41c.39.39.9.59 1.41.59.51 0 1.02-.2 1.41-.59l7.78-7.78 2.81-2.81c.8-.78.8-2.07 0-2.86zM5.41 20L4 18.59l7.72-7.72 1.47 1.35L5.41 20z\"/>\n",
              "  </svg>\n",
              "      </button>\n",
              "      \n",
              "  <style>\n",
              "    .colab-df-container {\n",
              "      display:flex;\n",
              "      flex-wrap:wrap;\n",
              "      gap: 12px;\n",
              "    }\n",
              "\n",
              "    .colab-df-convert {\n",
              "      background-color: #E8F0FE;\n",
              "      border: none;\n",
              "      border-radius: 50%;\n",
              "      cursor: pointer;\n",
              "      display: none;\n",
              "      fill: #1967D2;\n",
              "      height: 32px;\n",
              "      padding: 0 0 0 0;\n",
              "      width: 32px;\n",
              "    }\n",
              "\n",
              "    .colab-df-convert:hover {\n",
              "      background-color: #E2EBFA;\n",
              "      box-shadow: 0px 1px 2px rgba(60, 64, 67, 0.3), 0px 1px 3px 1px rgba(60, 64, 67, 0.15);\n",
              "      fill: #174EA6;\n",
              "    }\n",
              "\n",
              "    [theme=dark] .colab-df-convert {\n",
              "      background-color: #3B4455;\n",
              "      fill: #D2E3FC;\n",
              "    }\n",
              "\n",
              "    [theme=dark] .colab-df-convert:hover {\n",
              "      background-color: #434B5C;\n",
              "      box-shadow: 0px 1px 3px 1px rgba(0, 0, 0, 0.15);\n",
              "      filter: drop-shadow(0px 1px 2px rgba(0, 0, 0, 0.3));\n",
              "      fill: #FFFFFF;\n",
              "    }\n",
              "  </style>\n",
              "\n",
              "      <script>\n",
              "        const buttonEl =\n",
              "          document.querySelector('#df-5a0e7f8e-25d2-4900-90b2-85b4e12043da button.colab-df-convert');\n",
              "        buttonEl.style.display =\n",
              "          google.colab.kernel.accessAllowed ? 'block' : 'none';\n",
              "\n",
              "        async function convertToInteractive(key) {\n",
              "          const element = document.querySelector('#df-5a0e7f8e-25d2-4900-90b2-85b4e12043da');\n",
              "          const dataTable =\n",
              "            await google.colab.kernel.invokeFunction('convertToInteractive',\n",
              "                                                     [key], {});\n",
              "          if (!dataTable) return;\n",
              "\n",
              "          const docLinkHtml = 'Like what you see? Visit the ' +\n",
              "            '<a target=\"_blank\" href=https://colab.research.google.com/notebooks/data_table.ipynb>data table notebook</a>'\n",
              "            + ' to learn more about interactive tables.';\n",
              "          element.innerHTML = '';\n",
              "          dataTable['output_type'] = 'display_data';\n",
              "          await google.colab.output.renderOutput(dataTable, element);\n",
              "          const docLink = document.createElement('div');\n",
              "          docLink.innerHTML = docLinkHtml;\n",
              "          element.appendChild(docLink);\n",
              "        }\n",
              "      </script>\n",
              "    </div>\n",
              "  </div>\n",
              "  "
            ]
          },
          "metadata": {},
          "execution_count": 8
        }
      ]
    },
    {
      "cell_type": "code",
      "source": [
        "df['Инвестиции_млн_руб'].isna().mean()"
      ],
      "metadata": {
        "colab": {
          "base_uri": "https://localhost:8080/"
        },
        "id": "2e6wOnwO32SY",
        "outputId": "c7ecd749-4a11-4bdc-cf07-a3cfc6673b95"
      },
      "execution_count": 9,
      "outputs": [
        {
          "output_type": "execute_result",
          "data": {
            "text/plain": [
              "0.08823529411764706"
            ]
          },
          "metadata": {},
          "execution_count": 9
        }
      ]
    },
    {
      "cell_type": "code",
      "source": [
        "data = df.dropna()"
      ],
      "metadata": {
        "id": "_yQADkW74I3N"
      },
      "execution_count": 10,
      "outputs": []
    },
    {
      "cell_type": "code",
      "source": [
        "data.describe()"
      ],
      "metadata": {
        "colab": {
          "base_uri": "https://localhost:8080/",
          "height": 300
        },
        "id": "W2FyoeS-4eMF",
        "outputId": "1cddefda-9a63-4a83-de59-06c888d1848a"
      },
      "execution_count": 11,
      "outputs": [
        {
          "output_type": "execute_result",
          "data": {
            "text/plain": [
              "            ССЧ_чел  СредняяЗарплата_руб  Отгрузка_млн_руб  \\\n",
              "count     62.000000            62.000000         62.000000   \n",
              "mean   13351.790323         35038.895161      37510.892663   \n",
              "std    12388.285559          7830.097138      53411.919604   \n",
              "min     1866.000000         24362.500000        407.070500   \n",
              "25%     5205.000000         29491.550000       5622.500225   \n",
              "50%     9221.500000         33238.100000      13982.416700   \n",
              "75%    15484.250000         38003.600000      44577.123875   \n",
              "max    64793.000000         59152.200000     281343.335800   \n",
              "\n",
              "       ОборотТорговли_млн_руб  БюджетРасходы_млн_руб  Инвестиции_млн_руб  \n",
              "count               62.000000              62.000000           62.000000  \n",
              "mean              5300.632085            1926.572945         3447.620306  \n",
              "std               5785.758868            1765.144669         6175.213816  \n",
              "min                553.083000             261.684100           39.935000  \n",
              "25%               1665.874850             847.434450          442.624000  \n",
              "50%               3536.448500            1376.070450          929.399000  \n",
              "75%               6075.683900            2451.699650         3465.825250  \n",
              "max              29349.209800            9611.746800        30692.197000  "
            ],
            "text/html": [
              "\n",
              "  <div id=\"df-e0736d4a-a5d5-4478-8399-d51a7835de06\">\n",
              "    <div class=\"colab-df-container\">\n",
              "      <div>\n",
              "<style scoped>\n",
              "    .dataframe tbody tr th:only-of-type {\n",
              "        vertical-align: middle;\n",
              "    }\n",
              "\n",
              "    .dataframe tbody tr th {\n",
              "        vertical-align: top;\n",
              "    }\n",
              "\n",
              "    .dataframe thead th {\n",
              "        text-align: right;\n",
              "    }\n",
              "</style>\n",
              "<table border=\"1\" class=\"dataframe\">\n",
              "  <thead>\n",
              "    <tr style=\"text-align: right;\">\n",
              "      <th></th>\n",
              "      <th>ССЧ_чел</th>\n",
              "      <th>СредняяЗарплата_руб</th>\n",
              "      <th>Отгрузка_млн_руб</th>\n",
              "      <th>ОборотТорговли_млн_руб</th>\n",
              "      <th>БюджетРасходы_млн_руб</th>\n",
              "      <th>Инвестиции_млн_руб</th>\n",
              "    </tr>\n",
              "  </thead>\n",
              "  <tbody>\n",
              "    <tr>\n",
              "      <th>count</th>\n",
              "      <td>62.000000</td>\n",
              "      <td>62.000000</td>\n",
              "      <td>62.000000</td>\n",
              "      <td>62.000000</td>\n",
              "      <td>62.000000</td>\n",
              "      <td>62.000000</td>\n",
              "    </tr>\n",
              "    <tr>\n",
              "      <th>mean</th>\n",
              "      <td>13351.790323</td>\n",
              "      <td>35038.895161</td>\n",
              "      <td>37510.892663</td>\n",
              "      <td>5300.632085</td>\n",
              "      <td>1926.572945</td>\n",
              "      <td>3447.620306</td>\n",
              "    </tr>\n",
              "    <tr>\n",
              "      <th>std</th>\n",
              "      <td>12388.285559</td>\n",
              "      <td>7830.097138</td>\n",
              "      <td>53411.919604</td>\n",
              "      <td>5785.758868</td>\n",
              "      <td>1765.144669</td>\n",
              "      <td>6175.213816</td>\n",
              "    </tr>\n",
              "    <tr>\n",
              "      <th>min</th>\n",
              "      <td>1866.000000</td>\n",
              "      <td>24362.500000</td>\n",
              "      <td>407.070500</td>\n",
              "      <td>553.083000</td>\n",
              "      <td>261.684100</td>\n",
              "      <td>39.935000</td>\n",
              "    </tr>\n",
              "    <tr>\n",
              "      <th>25%</th>\n",
              "      <td>5205.000000</td>\n",
              "      <td>29491.550000</td>\n",
              "      <td>5622.500225</td>\n",
              "      <td>1665.874850</td>\n",
              "      <td>847.434450</td>\n",
              "      <td>442.624000</td>\n",
              "    </tr>\n",
              "    <tr>\n",
              "      <th>50%</th>\n",
              "      <td>9221.500000</td>\n",
              "      <td>33238.100000</td>\n",
              "      <td>13982.416700</td>\n",
              "      <td>3536.448500</td>\n",
              "      <td>1376.070450</td>\n",
              "      <td>929.399000</td>\n",
              "    </tr>\n",
              "    <tr>\n",
              "      <th>75%</th>\n",
              "      <td>15484.250000</td>\n",
              "      <td>38003.600000</td>\n",
              "      <td>44577.123875</td>\n",
              "      <td>6075.683900</td>\n",
              "      <td>2451.699650</td>\n",
              "      <td>3465.825250</td>\n",
              "    </tr>\n",
              "    <tr>\n",
              "      <th>max</th>\n",
              "      <td>64793.000000</td>\n",
              "      <td>59152.200000</td>\n",
              "      <td>281343.335800</td>\n",
              "      <td>29349.209800</td>\n",
              "      <td>9611.746800</td>\n",
              "      <td>30692.197000</td>\n",
              "    </tr>\n",
              "  </tbody>\n",
              "</table>\n",
              "</div>\n",
              "      <button class=\"colab-df-convert\" onclick=\"convertToInteractive('df-e0736d4a-a5d5-4478-8399-d51a7835de06')\"\n",
              "              title=\"Convert this dataframe to an interactive table.\"\n",
              "              style=\"display:none;\">\n",
              "        \n",
              "  <svg xmlns=\"http://www.w3.org/2000/svg\" height=\"24px\"viewBox=\"0 0 24 24\"\n",
              "       width=\"24px\">\n",
              "    <path d=\"M0 0h24v24H0V0z\" fill=\"none\"/>\n",
              "    <path d=\"M18.56 5.44l.94 2.06.94-2.06 2.06-.94-2.06-.94-.94-2.06-.94 2.06-2.06.94zm-11 1L8.5 8.5l.94-2.06 2.06-.94-2.06-.94L8.5 2.5l-.94 2.06-2.06.94zm10 10l.94 2.06.94-2.06 2.06-.94-2.06-.94-.94-2.06-.94 2.06-2.06.94z\"/><path d=\"M17.41 7.96l-1.37-1.37c-.4-.4-.92-.59-1.43-.59-.52 0-1.04.2-1.43.59L10.3 9.45l-7.72 7.72c-.78.78-.78 2.05 0 2.83L4 21.41c.39.39.9.59 1.41.59.51 0 1.02-.2 1.41-.59l7.78-7.78 2.81-2.81c.8-.78.8-2.07 0-2.86zM5.41 20L4 18.59l7.72-7.72 1.47 1.35L5.41 20z\"/>\n",
              "  </svg>\n",
              "      </button>\n",
              "      \n",
              "  <style>\n",
              "    .colab-df-container {\n",
              "      display:flex;\n",
              "      flex-wrap:wrap;\n",
              "      gap: 12px;\n",
              "    }\n",
              "\n",
              "    .colab-df-convert {\n",
              "      background-color: #E8F0FE;\n",
              "      border: none;\n",
              "      border-radius: 50%;\n",
              "      cursor: pointer;\n",
              "      display: none;\n",
              "      fill: #1967D2;\n",
              "      height: 32px;\n",
              "      padding: 0 0 0 0;\n",
              "      width: 32px;\n",
              "    }\n",
              "\n",
              "    .colab-df-convert:hover {\n",
              "      background-color: #E2EBFA;\n",
              "      box-shadow: 0px 1px 2px rgba(60, 64, 67, 0.3), 0px 1px 3px 1px rgba(60, 64, 67, 0.15);\n",
              "      fill: #174EA6;\n",
              "    }\n",
              "\n",
              "    [theme=dark] .colab-df-convert {\n",
              "      background-color: #3B4455;\n",
              "      fill: #D2E3FC;\n",
              "    }\n",
              "\n",
              "    [theme=dark] .colab-df-convert:hover {\n",
              "      background-color: #434B5C;\n",
              "      box-shadow: 0px 1px 3px 1px rgba(0, 0, 0, 0.15);\n",
              "      filter: drop-shadow(0px 1px 2px rgba(0, 0, 0, 0.3));\n",
              "      fill: #FFFFFF;\n",
              "    }\n",
              "  </style>\n",
              "\n",
              "      <script>\n",
              "        const buttonEl =\n",
              "          document.querySelector('#df-e0736d4a-a5d5-4478-8399-d51a7835de06 button.colab-df-convert');\n",
              "        buttonEl.style.display =\n",
              "          google.colab.kernel.accessAllowed ? 'block' : 'none';\n",
              "\n",
              "        async function convertToInteractive(key) {\n",
              "          const element = document.querySelector('#df-e0736d4a-a5d5-4478-8399-d51a7835de06');\n",
              "          const dataTable =\n",
              "            await google.colab.kernel.invokeFunction('convertToInteractive',\n",
              "                                                     [key], {});\n",
              "          if (!dataTable) return;\n",
              "\n",
              "          const docLinkHtml = 'Like what you see? Visit the ' +\n",
              "            '<a target=\"_blank\" href=https://colab.research.google.com/notebooks/data_table.ipynb>data table notebook</a>'\n",
              "            + ' to learn more about interactive tables.';\n",
              "          element.innerHTML = '';\n",
              "          dataTable['output_type'] = 'display_data';\n",
              "          await google.colab.output.renderOutput(dataTable, element);\n",
              "          const docLink = document.createElement('div');\n",
              "          docLink.innerHTML = docLinkHtml;\n",
              "          element.appendChild(docLink);\n",
              "        }\n",
              "      </script>\n",
              "    </div>\n",
              "  </div>\n",
              "  "
            ]
          },
          "metadata": {},
          "execution_count": 11
        }
      ]
    },
    {
      "cell_type": "code",
      "source": [
        "data.columns"
      ],
      "metadata": {
        "colab": {
          "base_uri": "https://localhost:8080/"
        },
        "id": "dPLbTo_N4jCy",
        "outputId": "ee2d02b6-1164-48fd-fd3f-d87fea7c60ab"
      },
      "execution_count": 12,
      "outputs": [
        {
          "output_type": "execute_result",
          "data": {
            "text/plain": [
              "Index(['Регион', 'Муниципалитет', 'ССЧ_чел', 'СредняяЗарплата_руб',\n",
              "       'Отгрузка_млн_руб', 'ОборотТорговли_млн_руб', 'БюджетРасходы_млн_руб',\n",
              "       'Инвестиции_млн_руб'],\n",
              "      dtype='object')"
            ]
          },
          "metadata": {},
          "execution_count": 12
        }
      ]
    },
    {
      "cell_type": "code",
      "source": [
        "col_names = ['Region', 'City', 'WorkCount', 'AvgSalary',\n",
        "       'Production', 'Retail', 'BudgetSpends',\n",
        "       'Investment']"
      ],
      "metadata": {
        "id": "NVQHmp8p4nuG"
      },
      "execution_count": 13,
      "outputs": []
    },
    {
      "cell_type": "code",
      "source": [
        "data.columns = col_names\n",
        "data.head()"
      ],
      "metadata": {
        "colab": {
          "base_uri": "https://localhost:8080/",
          "height": 206
        },
        "id": "LeQ_R_pB5Hmi",
        "outputId": "e982ad76-50e7-42fc-ec4a-7235cbf3c424"
      },
      "execution_count": 14,
      "outputs": [
        {
          "output_type": "execute_result",
          "data": {
            "text/plain": [
              "       Region     City  WorkCount  AvgSalary  Production     Retail  \\\n",
              "0  Ивановская   Вичуга       4644    24362.5   1569.9801  1938.6381   \n",
              "1  Ивановская  Кинешма      12075    27299.0   7772.1423  4852.5725   \n",
              "2  Ивановская    Кохма       2733    27163.4   2937.9856  1700.0135   \n",
              "3  Ивановская  Тейково       5395    27988.7   6710.2328  2309.6860   \n",
              "4  Ивановская      Шуя       9402    30067.4  24950.8141  4104.0293   \n",
              "\n",
              "   BudgetSpends  Investment  \n",
              "0      728.6035     204.065  \n",
              "1     1977.6431     995.331  \n",
              "2      630.7619     467.665  \n",
              "3      758.5690     275.265  \n",
              "4     1188.5295     863.467  "
            ],
            "text/html": [
              "\n",
              "  <div id=\"df-00c8d08d-070b-48d6-ba56-4f6d9ab0f978\">\n",
              "    <div class=\"colab-df-container\">\n",
              "      <div>\n",
              "<style scoped>\n",
              "    .dataframe tbody tr th:only-of-type {\n",
              "        vertical-align: middle;\n",
              "    }\n",
              "\n",
              "    .dataframe tbody tr th {\n",
              "        vertical-align: top;\n",
              "    }\n",
              "\n",
              "    .dataframe thead th {\n",
              "        text-align: right;\n",
              "    }\n",
              "</style>\n",
              "<table border=\"1\" class=\"dataframe\">\n",
              "  <thead>\n",
              "    <tr style=\"text-align: right;\">\n",
              "      <th></th>\n",
              "      <th>Region</th>\n",
              "      <th>City</th>\n",
              "      <th>WorkCount</th>\n",
              "      <th>AvgSalary</th>\n",
              "      <th>Production</th>\n",
              "      <th>Retail</th>\n",
              "      <th>BudgetSpends</th>\n",
              "      <th>Investment</th>\n",
              "    </tr>\n",
              "  </thead>\n",
              "  <tbody>\n",
              "    <tr>\n",
              "      <th>0</th>\n",
              "      <td>Ивановская</td>\n",
              "      <td>Вичуга</td>\n",
              "      <td>4644</td>\n",
              "      <td>24362.5</td>\n",
              "      <td>1569.9801</td>\n",
              "      <td>1938.6381</td>\n",
              "      <td>728.6035</td>\n",
              "      <td>204.065</td>\n",
              "    </tr>\n",
              "    <tr>\n",
              "      <th>1</th>\n",
              "      <td>Ивановская</td>\n",
              "      <td>Кинешма</td>\n",
              "      <td>12075</td>\n",
              "      <td>27299.0</td>\n",
              "      <td>7772.1423</td>\n",
              "      <td>4852.5725</td>\n",
              "      <td>1977.6431</td>\n",
              "      <td>995.331</td>\n",
              "    </tr>\n",
              "    <tr>\n",
              "      <th>2</th>\n",
              "      <td>Ивановская</td>\n",
              "      <td>Кохма</td>\n",
              "      <td>2733</td>\n",
              "      <td>27163.4</td>\n",
              "      <td>2937.9856</td>\n",
              "      <td>1700.0135</td>\n",
              "      <td>630.7619</td>\n",
              "      <td>467.665</td>\n",
              "    </tr>\n",
              "    <tr>\n",
              "      <th>3</th>\n",
              "      <td>Ивановская</td>\n",
              "      <td>Тейково</td>\n",
              "      <td>5395</td>\n",
              "      <td>27988.7</td>\n",
              "      <td>6710.2328</td>\n",
              "      <td>2309.6860</td>\n",
              "      <td>758.5690</td>\n",
              "      <td>275.265</td>\n",
              "    </tr>\n",
              "    <tr>\n",
              "      <th>4</th>\n",
              "      <td>Ивановская</td>\n",
              "      <td>Шуя</td>\n",
              "      <td>9402</td>\n",
              "      <td>30067.4</td>\n",
              "      <td>24950.8141</td>\n",
              "      <td>4104.0293</td>\n",
              "      <td>1188.5295</td>\n",
              "      <td>863.467</td>\n",
              "    </tr>\n",
              "  </tbody>\n",
              "</table>\n",
              "</div>\n",
              "      <button class=\"colab-df-convert\" onclick=\"convertToInteractive('df-00c8d08d-070b-48d6-ba56-4f6d9ab0f978')\"\n",
              "              title=\"Convert this dataframe to an interactive table.\"\n",
              "              style=\"display:none;\">\n",
              "        \n",
              "  <svg xmlns=\"http://www.w3.org/2000/svg\" height=\"24px\"viewBox=\"0 0 24 24\"\n",
              "       width=\"24px\">\n",
              "    <path d=\"M0 0h24v24H0V0z\" fill=\"none\"/>\n",
              "    <path d=\"M18.56 5.44l.94 2.06.94-2.06 2.06-.94-2.06-.94-.94-2.06-.94 2.06-2.06.94zm-11 1L8.5 8.5l.94-2.06 2.06-.94-2.06-.94L8.5 2.5l-.94 2.06-2.06.94zm10 10l.94 2.06.94-2.06 2.06-.94-2.06-.94-.94-2.06-.94 2.06-2.06.94z\"/><path d=\"M17.41 7.96l-1.37-1.37c-.4-.4-.92-.59-1.43-.59-.52 0-1.04.2-1.43.59L10.3 9.45l-7.72 7.72c-.78.78-.78 2.05 0 2.83L4 21.41c.39.39.9.59 1.41.59.51 0 1.02-.2 1.41-.59l7.78-7.78 2.81-2.81c.8-.78.8-2.07 0-2.86zM5.41 20L4 18.59l7.72-7.72 1.47 1.35L5.41 20z\"/>\n",
              "  </svg>\n",
              "      </button>\n",
              "      \n",
              "  <style>\n",
              "    .colab-df-container {\n",
              "      display:flex;\n",
              "      flex-wrap:wrap;\n",
              "      gap: 12px;\n",
              "    }\n",
              "\n",
              "    .colab-df-convert {\n",
              "      background-color: #E8F0FE;\n",
              "      border: none;\n",
              "      border-radius: 50%;\n",
              "      cursor: pointer;\n",
              "      display: none;\n",
              "      fill: #1967D2;\n",
              "      height: 32px;\n",
              "      padding: 0 0 0 0;\n",
              "      width: 32px;\n",
              "    }\n",
              "\n",
              "    .colab-df-convert:hover {\n",
              "      background-color: #E2EBFA;\n",
              "      box-shadow: 0px 1px 2px rgba(60, 64, 67, 0.3), 0px 1px 3px 1px rgba(60, 64, 67, 0.15);\n",
              "      fill: #174EA6;\n",
              "    }\n",
              "\n",
              "    [theme=dark] .colab-df-convert {\n",
              "      background-color: #3B4455;\n",
              "      fill: #D2E3FC;\n",
              "    }\n",
              "\n",
              "    [theme=dark] .colab-df-convert:hover {\n",
              "      background-color: #434B5C;\n",
              "      box-shadow: 0px 1px 3px 1px rgba(0, 0, 0, 0.15);\n",
              "      filter: drop-shadow(0px 1px 2px rgba(0, 0, 0, 0.3));\n",
              "      fill: #FFFFFF;\n",
              "    }\n",
              "  </style>\n",
              "\n",
              "      <script>\n",
              "        const buttonEl =\n",
              "          document.querySelector('#df-00c8d08d-070b-48d6-ba56-4f6d9ab0f978 button.colab-df-convert');\n",
              "        buttonEl.style.display =\n",
              "          google.colab.kernel.accessAllowed ? 'block' : 'none';\n",
              "\n",
              "        async function convertToInteractive(key) {\n",
              "          const element = document.querySelector('#df-00c8d08d-070b-48d6-ba56-4f6d9ab0f978');\n",
              "          const dataTable =\n",
              "            await google.colab.kernel.invokeFunction('convertToInteractive',\n",
              "                                                     [key], {});\n",
              "          if (!dataTable) return;\n",
              "\n",
              "          const docLinkHtml = 'Like what you see? Visit the ' +\n",
              "            '<a target=\"_blank\" href=https://colab.research.google.com/notebooks/data_table.ipynb>data table notebook</a>'\n",
              "            + ' to learn more about interactive tables.';\n",
              "          element.innerHTML = '';\n",
              "          dataTable['output_type'] = 'display_data';\n",
              "          await google.colab.output.renderOutput(dataTable, element);\n",
              "          const docLink = document.createElement('div');\n",
              "          docLink.innerHTML = docLinkHtml;\n",
              "          element.appendChild(docLink);\n",
              "        }\n",
              "      </script>\n",
              "    </div>\n",
              "  </div>\n",
              "  "
            ]
          },
          "metadata": {},
          "execution_count": 14
        }
      ]
    },
    {
      "cell_type": "code",
      "source": [
        "target_col = 'Investment'"
      ],
      "metadata": {
        "id": "m2xcj8A-5gwt"
      },
      "execution_count": 15,
      "outputs": []
    },
    {
      "cell_type": "code",
      "source": [
        "feature_cols = ['WorkCount', 'AvgSalary', 'Production', 'Retail', 'BudgetSpends']"
      ],
      "metadata": {
        "id": "GQLoU01b5nAd"
      },
      "execution_count": 16,
      "outputs": []
    },
    {
      "cell_type": "markdown",
      "source": [
        "# Разведочный анализ данных"
      ],
      "metadata": {
        "id": "1GD2YAwr6E1Z"
      }
    },
    {
      "cell_type": "markdown",
      "source": [
        "### Распределение целевой величины (Investment)"
      ],
      "metadata": {
        "id": "L5DwejDe6KGg"
      }
    },
    {
      "cell_type": "code",
      "source": [
        "sns.histplot(data.Investment, kde = True)"
      ],
      "metadata": {
        "colab": {
          "base_uri": "https://localhost:8080/",
          "height": 303
        },
        "id": "6rFnRWva5zT3",
        "outputId": "e4c7f20b-6244-48ee-f6a2-df58d994434e"
      },
      "execution_count": 17,
      "outputs": [
        {
          "output_type": "execute_result",
          "data": {
            "text/plain": [
              "<matplotlib.axes._subplots.AxesSubplot at 0x7f4f4cb6bfd0>"
            ]
          },
          "metadata": {},
          "execution_count": 17
        },
        {
          "output_type": "display_data",
          "data": {
            "text/plain": [
              "<Figure size 432x288 with 1 Axes>"
            ],
            "image/png": "[encoded data removed]"
          },
          "metadata": {
            "needs_background": "light"
          }
        }
      ]
    },
    {
      "cell_type": "code",
      "source": [
        "sns.boxplot(data.Investment)"
      ],
      "metadata": {
        "colab": {
          "base_uri": "https://localhost:8080/",
          "height": 359
        },
        "id": "aFinq3M2657X",
        "outputId": "8fae9f59-a70e-4b4d-fe1a-6f044466fa1f"
      },
      "execution_count": 18,
      "outputs": [
        {
          "output_type": "stream",
          "name": "stderr",
          "text": [
            "/usr/local/lib/python3.7/dist-packages/seaborn/_decorators.py:43: FutureWarning: Pass the following variable as a keyword arg: x. From version 0.12, the only valid positional argument will be `data`, and passing other arguments without an explicit keyword will result in an error or misinterpretation.\n",
            "  FutureWarning\n"
          ]
        },
        {
          "output_type": "execute_result",
          "data": {
            "text/plain": [
              "<matplotlib.axes._subplots.AxesSubplot at 0x7f4f4acf8550>"
            ]
          },
          "metadata": {},
          "execution_count": 18
        },
        {
          "output_type": "display_data",
          "data": {
            "text/plain": [
              "<Figure size 432x288 with 1 Axes>"
            ],
            "image/png": "[encoded data removed]"
          },
          "metadata": {
            "needs_background": "light"
          }
        }
      ]
    },
    {
      "cell_type": "code",
      "source": [
        "data.Investment.describe()"
      ],
      "metadata": {
        "colab": {
          "base_uri": "https://localhost:8080/"
        },
        "id": "KYI4KS-t7Iqn",
        "outputId": "852a5258-7076-45c6-a0dc-ad792d6c4a7d"
      },
      "execution_count": 19,
      "outputs": [
        {
          "output_type": "execute_result",
          "data": {
            "text/plain": [
              "count       62.000000\n",
              "mean      3447.620306\n",
              "std       6175.213816\n",
              "min         39.935000\n",
              "25%        442.624000\n",
              "50%        929.399000\n",
              "75%       3465.825250\n",
              "max      30692.197000\n",
              "Name: Investment, dtype: float64"
            ]
          },
          "metadata": {},
          "execution_count": 19
        }
      ]
    },
    {
      "cell_type": "code",
      "source": [
        "for feat in feature_cols:\n",
        "    print(f\"invesment vs {feat}\")\n",
        "    plt.figure(figsize = (9,6))\n",
        "    sns.scatterplot(x = data[feat], y = data.Investment)\n",
        "    plt.xlabel(feat)\n",
        "    plt.ylabel('investment')\n",
        "    plt.show()"
      ],
      "metadata": {
        "colab": {
          "base_uri": "https://localhost:8080/",
          "height": 1000
        },
        "id": "Oj8Ehgpr7l27",
        "outputId": "30a99a76-91ce-4af8-9a6b-cf98844bee5c"
      },
      "execution_count": 20,
      "outputs": [
        {
          "output_type": "stream",
          "name": "stdout",
          "text": [
            "invesment vs WorkCount\n"
          ]
        },
        {
          "output_type": "display_data",
          "data": {
            "text/plain": [
              "<Figure size 648x432 with 1 Axes>"
            ],
            "image/png": "[encoded data removed]"
          },
          "metadata": {
            "needs_background": "light"
          }
        },
        {
          "output_type": "stream",
          "name": "stdout",
          "text": [
            "invesment vs AvgSalary\n"
          ]
        },
        {
          "output_type": "display_data",
          "data": {
            "text/plain": [
              "<Figure size 648x432 with 1 Axes>"
            ],
            "image/png": "[encoded data removed]"
          },
          "metadata": {
            "needs_background": "light"
          }
        },
        {
          "output_type": "stream",
          "name": "stdout",
          "text": [
            "invesment vs Production\n"
          ]
        },
        {
          "output_type": "display_data",
          "data": {
            "text/plain": [
              "<Figure size 648x432 with 1 Axes>"
            ],
            "image/png": "[encoded data removed]"
          },
          "metadata": {
            "needs_background": "light"
          }
        },
        {
          "output_type": "stream",
          "name": "stdout",
          "text": [
            "invesment vs Retail\n"
          ]
        },
        {
          "output_type": "display_data",
          "data": {
            "text/plain": [
              "<Figure size 648x432 with 1 Axes>"
            ],
            "image/png": "[encoded data removed]"
          },
          "metadata": {
            "needs_background": "light"
          }
        },
        {
          "output_type": "stream",
          "name": "stdout",
          "text": [
            "invesment vs BudgetSpends\n"
          ]
        },
        {
          "output_type": "display_data",
          "data": {
            "text/plain": [
              "<Figure size 648x432 with 1 Axes>"
            ],
            "image/png": "[encoded data removed]"
          },
          "metadata": {
            "needs_background": "light"
          }
        }
      ]
    },
    {
      "cell_type": "markdown",
      "source": [
        "### Распределение признаков"
      ],
      "metadata": {
        "id": "LEqFkmce9TDK"
      }
    },
    {
      "cell_type": "code",
      "source": [
        "# описательная статистика для признаков\n",
        "data[feature_cols].describe()"
      ],
      "metadata": {
        "colab": {
          "base_uri": "https://localhost:8080/",
          "height": 300
        },
        "id": "XN78fAkW9ZpM",
        "outputId": "b665350f-2d6c-4a47-e17d-30fc5195d92d"
      },
      "execution_count": 21,
      "outputs": [
        {
          "output_type": "execute_result",
          "data": {
            "text/plain": [
              "          WorkCount     AvgSalary     Production        Retail  BudgetSpends\n",
              "count     62.000000     62.000000      62.000000     62.000000     62.000000\n",
              "mean   13351.790323  35038.895161   37510.892663   5300.632085   1926.572945\n",
              "std    12388.285559   7830.097138   53411.919604   5785.758868   1765.144669\n",
              "min     1866.000000  24362.500000     407.070500    553.083000    261.684100\n",
              "25%     5205.000000  29491.550000    5622.500225   1665.874850    847.434450\n",
              "50%     9221.500000  33238.100000   13982.416700   3536.448500   1376.070450\n",
              "75%    15484.250000  38003.600000   44577.123875   6075.683900   2451.699650\n",
              "max    64793.000000  59152.200000  281343.335800  29349.209800   9611.746800"
            ],
            "text/html": [
              "\n",
              "  <div id=\"df-1f6c0cbe-0cb8-447e-8dcb-3b4ada3b2c3b\">\n",
              "    <div class=\"colab-df-container\">\n",
              "      <div>\n",
              "<style scoped>\n",
              "    .dataframe tbody tr th:only-of-type {\n",
              "        vertical-align: middle;\n",
              "    }\n",
              "\n",
              "    .dataframe tbody tr th {\n",
              "        vertical-align: top;\n",
              "    }\n",
              "\n",
              "    .dataframe thead th {\n",
              "        text-align: right;\n",
              "    }\n",
              "</style>\n",
              "<table border=\"1\" class=\"dataframe\">\n",
              "  <thead>\n",
              "    <tr style=\"text-align: right;\">\n",
              "      <th></th>\n",
              "      <th>WorkCount</th>\n",
              "      <th>AvgSalary</th>\n",
              "      <th>Production</th>\n",
              "      <th>Retail</th>\n",
              "      <th>BudgetSpends</th>\n",
              "    </tr>\n",
              "  </thead>\n",
              "  <tbody>\n",
              "    <tr>\n",
              "      <th>count</th>\n",
              "      <td>62.000000</td>\n",
              "      <td>62.000000</td>\n",
              "      <td>62.000000</td>\n",
              "      <td>62.000000</td>\n",
              "      <td>62.000000</td>\n",
              "    </tr>\n",
              "    <tr>\n",
              "      <th>mean</th>\n",
              "      <td>13351.790323</td>\n",
              "      <td>35038.895161</td>\n",
              "      <td>37510.892663</td>\n",
              "      <td>5300.632085</td>\n",
              "      <td>1926.572945</td>\n",
              "    </tr>\n",
              "    <tr>\n",
              "      <th>std</th>\n",
              "      <td>12388.285559</td>\n",
              "      <td>7830.097138</td>\n",
              "      <td>53411.919604</td>\n",
              "      <td>5785.758868</td>\n",
              "      <td>1765.144669</td>\n",
              "    </tr>\n",
              "    <tr>\n",
              "      <th>min</th>\n",
              "      <td>1866.000000</td>\n",
              "      <td>24362.500000</td>\n",
              "      <td>407.070500</td>\n",
              "      <td>553.083000</td>\n",
              "      <td>261.684100</td>\n",
              "    </tr>\n",
              "    <tr>\n",
              "      <th>25%</th>\n",
              "      <td>5205.000000</td>\n",
              "      <td>29491.550000</td>\n",
              "      <td>5622.500225</td>\n",
              "      <td>1665.874850</td>\n",
              "      <td>847.434450</td>\n",
              "    </tr>\n",
              "    <tr>\n",
              "      <th>50%</th>\n",
              "      <td>9221.500000</td>\n",
              "      <td>33238.100000</td>\n",
              "      <td>13982.416700</td>\n",
              "      <td>3536.448500</td>\n",
              "      <td>1376.070450</td>\n",
              "    </tr>\n",
              "    <tr>\n",
              "      <th>75%</th>\n",
              "      <td>15484.250000</td>\n",
              "      <td>38003.600000</td>\n",
              "      <td>44577.123875</td>\n",
              "      <td>6075.683900</td>\n",
              "      <td>2451.699650</td>\n",
              "    </tr>\n",
              "    <tr>\n",
              "      <th>max</th>\n",
              "      <td>64793.000000</td>\n",
              "      <td>59152.200000</td>\n",
              "      <td>281343.335800</td>\n",
              "      <td>29349.209800</td>\n",
              "      <td>9611.746800</td>\n",
              "    </tr>\n",
              "  </tbody>\n",
              "</table>\n",
              "</div>\n",
              "      <button class=\"colab-df-convert\" onclick=\"convertToInteractive('df-1f6c0cbe-0cb8-447e-8dcb-3b4ada3b2c3b')\"\n",
              "              title=\"Convert this dataframe to an interactive table.\"\n",
              "              style=\"display:none;\">\n",
              "        \n",
              "  <svg xmlns=\"http://www.w3.org/2000/svg\" height=\"24px\"viewBox=\"0 0 24 24\"\n",
              "       width=\"24px\">\n",
              "    <path d=\"M0 0h24v24H0V0z\" fill=\"none\"/>\n",
              "    <path d=\"M18.56 5.44l.94 2.06.94-2.06 2.06-.94-2.06-.94-.94-2.06-.94 2.06-2.06.94zm-11 1L8.5 8.5l.94-2.06 2.06-.94-2.06-.94L8.5 2.5l-.94 2.06-2.06.94zm10 10l.94 2.06.94-2.06 2.06-.94-2.06-.94-.94-2.06-.94 2.06-2.06.94z\"/><path d=\"M17.41 7.96l-1.37-1.37c-.4-.4-.92-.59-1.43-.59-.52 0-1.04.2-1.43.59L10.3 9.45l-7.72 7.72c-.78.78-.78 2.05 0 2.83L4 21.41c.39.39.9.59 1.41.59.51 0 1.02-.2 1.41-.59l7.78-7.78 2.81-2.81c.8-.78.8-2.07 0-2.86zM5.41 20L4 18.59l7.72-7.72 1.47 1.35L5.41 20z\"/>\n",
              "  </svg>\n",
              "      </button>\n",
              "      \n",
              "  <style>\n",
              "    .colab-df-container {\n",
              "      display:flex;\n",
              "      flex-wrap:wrap;\n",
              "      gap: 12px;\n",
              "    }\n",
              "\n",
              "    .colab-df-convert {\n",
              "      background-color: #E8F0FE;\n",
              "      border: none;\n",
              "      border-radius: 50%;\n",
              "      cursor: pointer;\n",
              "      display: none;\n",
              "      fill: #1967D2;\n",
              "      height: 32px;\n",
              "      padding: 0 0 0 0;\n",
              "      width: 32px;\n",
              "    }\n",
              "\n",
              "    .colab-df-convert:hover {\n",
              "      background-color: #E2EBFA;\n",
              "      box-shadow: 0px 1px 2px rgba(60, 64, 67, 0.3), 0px 1px 3px 1px rgba(60, 64, 67, 0.15);\n",
              "      fill: #174EA6;\n",
              "    }\n",
              "\n",
              "    [theme=dark] .colab-df-convert {\n",
              "      background-color: #3B4455;\n",
              "      fill: #D2E3FC;\n",
              "    }\n",
              "\n",
              "    [theme=dark] .colab-df-convert:hover {\n",
              "      background-color: #434B5C;\n",
              "      box-shadow: 0px 1px 3px 1px rgba(0, 0, 0, 0.15);\n",
              "      filter: drop-shadow(0px 1px 2px rgba(0, 0, 0, 0.3));\n",
              "      fill: #FFFFFF;\n",
              "    }\n",
              "  </style>\n",
              "\n",
              "      <script>\n",
              "        const buttonEl =\n",
              "          document.querySelector('#df-1f6c0cbe-0cb8-447e-8dcb-3b4ada3b2c3b button.colab-df-convert');\n",
              "        buttonEl.style.display =\n",
              "          google.colab.kernel.accessAllowed ? 'block' : 'none';\n",
              "\n",
              "        async function convertToInteractive(key) {\n",
              "          const element = document.querySelector('#df-1f6c0cbe-0cb8-447e-8dcb-3b4ada3b2c3b');\n",
              "          const dataTable =\n",
              "            await google.colab.kernel.invokeFunction('convertToInteractive',\n",
              "                                                     [key], {});\n",
              "          if (!dataTable) return;\n",
              "\n",
              "          const docLinkHtml = 'Like what you see? Visit the ' +\n",
              "            '<a target=\"_blank\" href=https://colab.research.google.com/notebooks/data_table.ipynb>data table notebook</a>'\n",
              "            + ' to learn more about interactive tables.';\n",
              "          element.innerHTML = '';\n",
              "          dataTable['output_type'] = 'display_data';\n",
              "          await google.colab.output.renderOutput(dataTable, element);\n",
              "          const docLink = document.createElement('div');\n",
              "          docLink.innerHTML = docLinkHtml;\n",
              "          element.appendChild(docLink);\n",
              "        }\n",
              "      </script>\n",
              "    </div>\n",
              "  </div>\n",
              "  "
            ]
          },
          "metadata": {},
          "execution_count": 21
        }
      ]
    },
    {
      "cell_type": "code",
      "source": [
        "for feat in feature_cols:\n",
        "    fig, [ax1, ax2] = plt.subplots(nrows = 1, ncols = 2, figsize = (12,6))\n",
        "    plt.title(f'Признак - {feat}')\n",
        "    sns.histplot(data[feat], kde = True, ax = ax1)\n",
        "    sns.boxplot(data[feat], ax = ax2)"
      ],
      "metadata": {
        "colab": {
          "base_uri": "https://localhost:8080/",
          "height": 1000
        },
        "id": "AWkn0zbO9zQy",
        "outputId": "63b55e2e-66d8-43f9-f047-ed738e23b9f1"
      },
      "execution_count": 22,
      "outputs": [
        {
          "output_type": "stream",
          "name": "stderr",
          "text": [
            "/usr/local/lib/python3.7/dist-packages/seaborn/_decorators.py:43: FutureWarning: Pass the following variable as a keyword arg: x. From version 0.12, the only valid positional argument will be `data`, and passing other arguments without an explicit keyword will result in an error or misinterpretation.\n",
            "  FutureWarning\n",
            "/usr/local/lib/python3.7/dist-packages/seaborn/_decorators.py:43: FutureWarning: Pass the following variable as a keyword arg: x. From version 0.12, the only valid positional argument will be `data`, and passing other arguments without an explicit keyword will result in an error or misinterpretation.\n",
            "  FutureWarning\n",
            "/usr/local/lib/python3.7/dist-packages/seaborn/_decorators.py:43: FutureWarning: Pass the following variable as a keyword arg: x. From version 0.12, the only valid positional argument will be `data`, and passing other arguments without an explicit keyword will result in an error or misinterpretation.\n",
            "  FutureWarning\n",
            "/usr/local/lib/python3.7/dist-packages/seaborn/_decorators.py:43: FutureWarning: Pass the following variable as a keyword arg: x. From version 0.12, the only valid positional argument will be `data`, and passing other arguments without an explicit keyword will result in an error or misinterpretation.\n",
            "  FutureWarning\n",
            "/usr/local/lib/python3.7/dist-packages/seaborn/_decorators.py:43: FutureWarning: Pass the following variable as a keyword arg: x. From version 0.12, the only valid positional argument will be `data`, and passing other arguments without an explicit keyword will result in an error or misinterpretation.\n",
            "  FutureWarning\n"
          ]
        },
        {
          "output_type": "display_data",
          "data": {
            "text/plain": [
              "<Figure size 864x432 with 2 Axes>"
            ],
            "image/png": "[encoded data removed]"
          },
          "metadata": {
            "needs_background": "light"
          }
        },
        {
          "output_type": "display_data",
          "data": {
            "text/plain": [
              "<Figure size 864x432 with 2 Axes>"
            ],
            "image/png": "[encoded data removed]"
          },
          "metadata": {
            "needs_background": "light"
          }
        },
        {
          "output_type": "display_data",
          "data": {
            "text/plain": [
              "<Figure size 864x432 with 2 Axes>"
            ],
            "image/png": "[encoded data removed]"
          },
          "metadata": {
            "needs_background": "light"
          }
        },
        {
          "output_type": "display_data",
          "data": {
            "text/plain": [
              "<Figure size 864x432 with 2 Axes>"
            ],
            "image/png": "[encoded data removed]"
          },
          "metadata": {
            "needs_background": "light"
          }
        },
        {
          "output_type": "display_data",
          "data": {
            "text/plain": [
              "<Figure size 864x432 with 2 Axes>"
            ],
            "image/png": "[encoded data removed]"
          },
          "metadata": {
            "needs_background": "light"
          }
        }
      ]
    },
    {
      "cell_type": "markdown",
      "source": [
        "### Матрица корреляций"
      ],
      "metadata": {
        "id": "XNOcU2P8mVuZ"
      }
    },
    {
      "cell_type": "code",
      "source": [
        "corr_mat = data[[*feature_cols, target_col]].corr()"
      ],
      "metadata": {
        "id": "FoxHD_ymmcvT"
      },
      "execution_count": 23,
      "outputs": []
    },
    {
      "cell_type": "code",
      "source": [
        "plt.figure(figsize = (10,10))\n",
        "sns.heatmap(data = corr_mat, vmin= -1, vmax = 1, \n",
        "            cmap ='coolwarm', annot = True, fmt = \"0.2f\",\n",
        "            linewidths = 2)"
      ],
      "metadata": {
        "colab": {
          "base_uri": "https://localhost:8080/",
          "height": 616
        },
        "id": "p6kgER9jnA3M",
        "outputId": "161fbfb5-5c5a-494e-ff2b-6f0045a70942"
      },
      "execution_count": 24,
      "outputs": [
        {
          "output_type": "execute_result",
          "data": {
            "text/plain": [
              "<matplotlib.axes._subplots.AxesSubplot at 0x7f4f4ae37690>"
            ]
          },
          "metadata": {},
          "execution_count": 24
        },
        {
          "output_type": "display_data",
          "data": {
            "text/plain": [
              "<Figure size 720x720 with 2 Axes>"
            ],
            "image/png": "[encoded data removed]"
          },
          "metadata": {
            "needs_background": "light"
          }
        }
      ]
    },
    {
      "cell_type": "markdown",
      "source": [
        "# Подготовка датасета"
      ],
      "metadata": {
        "id": "ig4J5SvVopRZ"
      }
    },
    {
      "cell_type": "code",
      "source": [
        "X = data[feature_cols]\n",
        "y = data[target_col]"
      ],
      "metadata": {
        "id": "UV9fHWQwoW-k"
      },
      "execution_count": 25,
      "outputs": []
    },
    {
      "cell_type": "code",
      "source": [
        "X_train, X_test, y_train, y_test = train_test_split(X,y, test_size = 0.2, random_state = 12)"
      ],
      "metadata": {
        "id": "oeEONTGSpVGc"
      },
      "execution_count": 26,
      "outputs": []
    },
    {
      "cell_type": "code",
      "source": [
        "X_train.shape, y_train.shape, X_test.shape, y_test.shape"
      ],
      "metadata": {
        "colab": {
          "base_uri": "https://localhost:8080/"
        },
        "id": "yiEhmxN5rIrR",
        "outputId": "30d6020c-01c6-41c6-e43a-69c9932a0c59"
      },
      "execution_count": 27,
      "outputs": [
        {
          "output_type": "execute_result",
          "data": {
            "text/plain": [
              "((49, 5), (49,), (13, 5), (13,))"
            ]
          },
          "metadata": {},
          "execution_count": 27
        }
      ]
    },
    {
      "cell_type": "code",
      "source": [
        "class DataPreparator:\n",
        "    def __init__(self):\n",
        "        self.dstat = None\n",
        "        return\n",
        "\n",
        "    def fit(self, data):\n",
        "        \"\"\"\n",
        "        Вычисление базовых статистик набора данных для \n",
        "        очистки и устранения аномалий\n",
        "    \n",
        "        \"\"\"\n",
        "        self.dstat = data.describe()\n",
        "        return\n",
        "\n",
        "    def transform(self, data):\n",
        "        \"\"\"\n",
        "        Преобразование набора данных: \n",
        "        - Заполнение отсутствующих значений медианными;\n",
        "        - Замена выбросов медианными значениями;\n",
        "        Возвращает объект DataFrame\n",
        "        \"\"\"\n",
        "        for col in data.columns: # замена пропусков мединанными значениям\n",
        "            data[col].loc[data[col] == data[col].isna()] = self.dstat[col].loc['50%']\n",
        "\n",
        "        for col in data.columns:\n",
        "            whis = 4* (self.dstat[col].loc['75%'] - self.dstat[col].loc['25%']) \n",
        "            data[col].loc[data[col] > whis] = self.dstat[col].loc['50%']\n",
        "\n",
        "        return data\n",
        "\n",
        "    def fit_transform(self, data):\n",
        "        self.fit(data)\n",
        "        return self.transform(data)\n"
      ],
      "metadata": {
        "id": "Wh6rXMnRpuGN"
      },
      "execution_count": 28,
      "outputs": []
    },
    {
      "cell_type": "code",
      "source": [
        "prep = DataPreparator()"
      ],
      "metadata": {
        "id": "jwWwv0lny2Io"
      },
      "execution_count": 29,
      "outputs": []
    },
    {
      "cell_type": "code",
      "source": [
        "X_train = prep.fit_transform(X_train)"
      ],
      "metadata": {
        "colab": {
          "base_uri": "https://localhost:8080/"
        },
        "id": "HVVFkcfty8MG",
        "outputId": "838a7447-70ff-45a8-8475-36dd1ade39ad"
      },
      "execution_count": 30,
      "outputs": [
        {
          "output_type": "stream",
          "name": "stderr",
          "text": [
            "/usr/local/lib/python3.7/dist-packages/pandas/core/indexing.py:1732: SettingWithCopyWarning: \n",
            "A value is trying to be set on a copy of a slice from a DataFrame\n",
            "\n",
            "See the caveats in the documentation: https://pandas.pydata.org/pandas-docs/stable/user_guide/indexing.html#returning-a-view-versus-a-copy\n",
            "  self._setitem_single_block(indexer, value, name)\n"
          ]
        }
      ]
    },
    {
      "cell_type": "code",
      "source": [
        "X_test = prep.transform(X_test)"
      ],
      "metadata": {
        "colab": {
          "base_uri": "https://localhost:8080/"
        },
        "id": "otdq5r1yzUyb",
        "outputId": "b7352381-5b48-4f7d-d0e5-9038dbd0b342"
      },
      "execution_count": 31,
      "outputs": [
        {
          "output_type": "stream",
          "name": "stderr",
          "text": [
            "/usr/local/lib/python3.7/dist-packages/pandas/core/indexing.py:1732: SettingWithCopyWarning: \n",
            "A value is trying to be set on a copy of a slice from a DataFrame\n",
            "\n",
            "See the caveats in the documentation: https://pandas.pydata.org/pandas-docs/stable/user_guide/indexing.html#returning-a-view-versus-a-copy\n",
            "  self._setitem_single_block(indexer, value, name)\n"
          ]
        }
      ]
    },
    {
      "cell_type": "code",
      "source": [
        "X_train.head()"
      ],
      "metadata": {
        "colab": {
          "base_uri": "https://localhost:8080/",
          "height": 206
        },
        "id": "EwhODODfz9po",
        "outputId": "16515922-111e-41a0-8785-051dff8f2996"
      },
      "execution_count": 32,
      "outputs": [
        {
          "output_type": "execute_result",
          "data": {
            "text/plain": [
              "    WorkCount  AvgSalary   Production      Retail  BudgetSpends\n",
              "48       6458    34082.9    3929.8128   3693.9232      849.2730\n",
              "52      31666    42942.4  153856.9455  14352.6179     3763.3710\n",
              "19      11914    34696.0   28478.0927   2344.5724     1838.0400\n",
              "53      14840    38074.1   28232.6154   5715.6524     1680.3047\n",
              "31      30805    42930.4  153320.1957   9151.4991     2669.5578"
            ],
            "text/html": [
              "\n",
              "  <div id=\"df-44488e60-6cd2-4a80-a18d-674bafc411cc\">\n",
              "    <div class=\"colab-df-container\">\n",
              "      <div>\n",
              "<style scoped>\n",
              "    .dataframe tbody tr th:only-of-type {\n",
              "        vertical-align: middle;\n",
              "    }\n",
              "\n",
              "    .dataframe tbody tr th {\n",
              "        vertical-align: top;\n",
              "    }\n",
              "\n",
              "    .dataframe thead th {\n",
              "        text-align: right;\n",
              "    }\n",
              "</style>\n",
              "<table border=\"1\" class=\"dataframe\">\n",
              "  <thead>\n",
              "    <tr style=\"text-align: right;\">\n",
              "      <th></th>\n",
              "      <th>WorkCount</th>\n",
              "      <th>AvgSalary</th>\n",
              "      <th>Production</th>\n",
              "      <th>Retail</th>\n",
              "      <th>BudgetSpends</th>\n",
              "    </tr>\n",
              "  </thead>\n",
              "  <tbody>\n",
              "    <tr>\n",
              "      <th>48</th>\n",
              "      <td>6458</td>\n",
              "      <td>34082.9</td>\n",
              "      <td>3929.8128</td>\n",
              "      <td>3693.9232</td>\n",
              "      <td>849.2730</td>\n",
              "    </tr>\n",
              "    <tr>\n",
              "      <th>52</th>\n",
              "      <td>31666</td>\n",
              "      <td>42942.4</td>\n",
              "      <td>153856.9455</td>\n",
              "      <td>14352.6179</td>\n",
              "      <td>3763.3710</td>\n",
              "    </tr>\n",
              "    <tr>\n",
              "      <th>19</th>\n",
              "      <td>11914</td>\n",
              "      <td>34696.0</td>\n",
              "      <td>28478.0927</td>\n",
              "      <td>2344.5724</td>\n",
              "      <td>1838.0400</td>\n",
              "    </tr>\n",
              "    <tr>\n",
              "      <th>53</th>\n",
              "      <td>14840</td>\n",
              "      <td>38074.1</td>\n",
              "      <td>28232.6154</td>\n",
              "      <td>5715.6524</td>\n",
              "      <td>1680.3047</td>\n",
              "    </tr>\n",
              "    <tr>\n",
              "      <th>31</th>\n",
              "      <td>30805</td>\n",
              "      <td>42930.4</td>\n",
              "      <td>153320.1957</td>\n",
              "      <td>9151.4991</td>\n",
              "      <td>2669.5578</td>\n",
              "    </tr>\n",
              "  </tbody>\n",
              "</table>\n",
              "</div>\n",
              "      <button class=\"colab-df-convert\" onclick=\"convertToInteractive('df-44488e60-6cd2-4a80-a18d-674bafc411cc')\"\n",
              "              title=\"Convert this dataframe to an interactive table.\"\n",
              "              style=\"display:none;\">\n",
              "        \n",
              "  <svg xmlns=\"http://www.w3.org/2000/svg\" height=\"24px\"viewBox=\"0 0 24 24\"\n",
              "       width=\"24px\">\n",
              "    <path d=\"M0 0h24v24H0V0z\" fill=\"none\"/>\n",
              "    <path d=\"M18.56 5.44l.94 2.06.94-2.06 2.06-.94-2.06-.94-.94-2.06-.94 2.06-2.06.94zm-11 1L8.5 8.5l.94-2.06 2.06-.94-2.06-.94L8.5 2.5l-.94 2.06-2.06.94zm10 10l.94 2.06.94-2.06 2.06-.94-2.06-.94-.94-2.06-.94 2.06-2.06.94z\"/><path d=\"M17.41 7.96l-1.37-1.37c-.4-.4-.92-.59-1.43-.59-.52 0-1.04.2-1.43.59L10.3 9.45l-7.72 7.72c-.78.78-.78 2.05 0 2.83L4 21.41c.39.39.9.59 1.41.59.51 0 1.02-.2 1.41-.59l7.78-7.78 2.81-2.81c.8-.78.8-2.07 0-2.86zM5.41 20L4 18.59l7.72-7.72 1.47 1.35L5.41 20z\"/>\n",
              "  </svg>\n",
              "      </button>\n",
              "      \n",
              "  <style>\n",
              "    .colab-df-container {\n",
              "      display:flex;\n",
              "      flex-wrap:wrap;\n",
              "      gap: 12px;\n",
              "    }\n",
              "\n",
              "    .colab-df-convert {\n",
              "      background-color: #E8F0FE;\n",
              "      border: none;\n",
              "      border-radius: 50%;\n",
              "      cursor: pointer;\n",
              "      display: none;\n",
              "      fill: #1967D2;\n",
              "      height: 32px;\n",
              "      padding: 0 0 0 0;\n",
              "      width: 32px;\n",
              "    }\n",
              "\n",
              "    .colab-df-convert:hover {\n",
              "      background-color: #E2EBFA;\n",
              "      box-shadow: 0px 1px 2px rgba(60, 64, 67, 0.3), 0px 1px 3px 1px rgba(60, 64, 67, 0.15);\n",
              "      fill: #174EA6;\n",
              "    }\n",
              "\n",
              "    [theme=dark] .colab-df-convert {\n",
              "      background-color: #3B4455;\n",
              "      fill: #D2E3FC;\n",
              "    }\n",
              "\n",
              "    [theme=dark] .colab-df-convert:hover {\n",
              "      background-color: #434B5C;\n",
              "      box-shadow: 0px 1px 3px 1px rgba(0, 0, 0, 0.15);\n",
              "      filter: drop-shadow(0px 1px 2px rgba(0, 0, 0, 0.3));\n",
              "      fill: #FFFFFF;\n",
              "    }\n",
              "  </style>\n",
              "\n",
              "      <script>\n",
              "        const buttonEl =\n",
              "          document.querySelector('#df-44488e60-6cd2-4a80-a18d-674bafc411cc button.colab-df-convert');\n",
              "        buttonEl.style.display =\n",
              "          google.colab.kernel.accessAllowed ? 'block' : 'none';\n",
              "\n",
              "        async function convertToInteractive(key) {\n",
              "          const element = document.querySelector('#df-44488e60-6cd2-4a80-a18d-674bafc411cc');\n",
              "          const dataTable =\n",
              "            await google.colab.kernel.invokeFunction('convertToInteractive',\n",
              "                                                     [key], {});\n",
              "          if (!dataTable) return;\n",
              "\n",
              "          const docLinkHtml = 'Like what you see? Visit the ' +\n",
              "            '<a target=\"_blank\" href=https://colab.research.google.com/notebooks/data_table.ipynb>data table notebook</a>'\n",
              "            + ' to learn more about interactive tables.';\n",
              "          element.innerHTML = '';\n",
              "          dataTable['output_type'] = 'display_data';\n",
              "          await google.colab.output.renderOutput(dataTable, element);\n",
              "          const docLink = document.createElement('div');\n",
              "          docLink.innerHTML = docLinkHtml;\n",
              "          element.appendChild(docLink);\n",
              "        }\n",
              "      </script>\n",
              "    </div>\n",
              "  </div>\n",
              "  "
            ]
          },
          "metadata": {},
          "execution_count": 32
        }
      ]
    },
    {
      "cell_type": "code",
      "source": [
        "for feat in feature_cols:\n",
        "    fig, [ax1, ax2] = plt.subplots(nrows = 1, ncols = 2, figsize = (12,6))\n",
        "    plt.title(f'Признак - {feat}')\n",
        "    sns.histplot(X_train[feat], kde = True, ax = ax1)\n",
        "    sns.boxplot(X_train[feat], ax = ax2)"
      ],
      "metadata": {
        "colab": {
          "base_uri": "https://localhost:8080/",
          "height": 1000
        },
        "id": "WTXBQm-HzmGl",
        "outputId": "bd54f817-53a9-47c9-8c0d-e7cde87cf76f"
      },
      "execution_count": 33,
      "outputs": [
        {
          "output_type": "stream",
          "name": "stderr",
          "text": [
            "/usr/local/lib/python3.7/dist-packages/seaborn/_decorators.py:43: FutureWarning: Pass the following variable as a keyword arg: x. From version 0.12, the only valid positional argument will be `data`, and passing other arguments without an explicit keyword will result in an error or misinterpretation.\n",
            "  FutureWarning\n",
            "/usr/local/lib/python3.7/dist-packages/seaborn/_decorators.py:43: FutureWarning: Pass the following variable as a keyword arg: x. From version 0.12, the only valid positional argument will be `data`, and passing other arguments without an explicit keyword will result in an error or misinterpretation.\n",
            "  FutureWarning\n",
            "/usr/local/lib/python3.7/dist-packages/seaborn/_decorators.py:43: FutureWarning: Pass the following variable as a keyword arg: x. From version 0.12, the only valid positional argument will be `data`, and passing other arguments without an explicit keyword will result in an error or misinterpretation.\n",
            "  FutureWarning\n",
            "/usr/local/lib/python3.7/dist-packages/seaborn/_decorators.py:43: FutureWarning: Pass the following variable as a keyword arg: x. From version 0.12, the only valid positional argument will be `data`, and passing other arguments without an explicit keyword will result in an error or misinterpretation.\n",
            "  FutureWarning\n",
            "/usr/local/lib/python3.7/dist-packages/seaborn/_decorators.py:43: FutureWarning: Pass the following variable as a keyword arg: x. From version 0.12, the only valid positional argument will be `data`, and passing other arguments without an explicit keyword will result in an error or misinterpretation.\n",
            "  FutureWarning\n"
          ]
        },
        {
          "output_type": "display_data",
          "data": {
            "text/plain": [
              "<Figure size 864x432 with 2 Axes>"
            ],
            "image/png": "[encoded data removed]"
          },
          "metadata": {
            "needs_background": "light"
          }
        },
        {
          "output_type": "display_data",
          "data": {
            "text/plain": [
              "<Figure size 864x432 with 2 Axes>"
            ],
            "image/png": "[encoded data removed]"
          },
          "metadata": {
            "needs_background": "light"
          }
        },
        {
          "output_type": "display_data",
          "data": {
            "text/plain": [
              "<Figure size 864x432 with 2 Axes>"
            ],
            "image/png": "[encoded data removed]"
          },
          "metadata": {
            "needs_background": "light"
          }
        },
        {
          "output_type": "display_data",
          "data": {
            "text/plain": [
              "<Figure size 864x432 with 2 Axes>"
            ],
            "image/png": "[encoded data removed]"
          },
          "metadata": {
            "needs_background": "light"
          }
        },
        {
          "output_type": "display_data",
          "data": {
            "text/plain": [
              "<Figure size 864x432 with 2 Axes>"
            ],
            "image/png": "[encoded data removed]"
          },
          "metadata": {
            "needs_background": "light"
          }
        }
      ]
    },
    {
      "cell_type": "markdown",
      "source": [
        "# Линейная регрессия"
      ],
      "metadata": {
        "id": "rt9FMT8d105O"
      }
    },
    {
      "cell_type": "code",
      "source": [
        "scaler = StandardScaler()"
      ],
      "metadata": {
        "id": "VzlAD-Dj1OJ9"
      },
      "execution_count": 34,
      "outputs": []
    },
    {
      "cell_type": "code",
      "source": [
        "X_train_scaled = scaler.fit_transform(X_train)"
      ],
      "metadata": {
        "id": "p-Dbl6ue2Mk0"
      },
      "execution_count": 35,
      "outputs": []
    },
    {
      "cell_type": "code",
      "source": [
        "X_test_scaled = scaler.transform(X_test)"
      ],
      "metadata": {
        "id": "4QpBRsSr2YC9"
      },
      "execution_count": 36,
      "outputs": []
    },
    {
      "cell_type": "code",
      "source": [
        "l_reg = LinearRegression()"
      ],
      "metadata": {
        "id": "VRvj24j52hQF"
      },
      "execution_count": 37,
      "outputs": []
    },
    {
      "cell_type": "code",
      "source": [
        "l_reg.fit(X_train_scaled, y_train)"
      ],
      "metadata": {
        "colab": {
          "base_uri": "https://localhost:8080/"
        },
        "id": "qHumxYGQ2q_m",
        "outputId": "dfbd3ccf-447b-4620-fe9f-dd9c17815af5"
      },
      "execution_count": 38,
      "outputs": [
        {
          "output_type": "execute_result",
          "data": {
            "text/plain": [
              "LinearRegression()"
            ]
          },
          "metadata": {},
          "execution_count": 38
        }
      ]
    },
    {
      "cell_type": "code",
      "source": [
        "y_lr = l_reg.predict(X_test_scaled)"
      ],
      "metadata": {
        "id": "7mPnFD3a2w8D"
      },
      "execution_count": 39,
      "outputs": []
    },
    {
      "cell_type": "code",
      "source": [
        "r2_score(y_test, y_lr)"
      ],
      "metadata": {
        "colab": {
          "base_uri": "https://localhost:8080/"
        },
        "id": "hm2cD_7z3Lik",
        "outputId": "590b6088-f26f-4b38-df9a-08319ff9e5b6"
      },
      "execution_count": 40,
      "outputs": [
        {
          "output_type": "execute_result",
          "data": {
            "text/plain": [
              "0.5156151200799262"
            ]
          },
          "metadata": {},
          "execution_count": 40
        }
      ]
    },
    {
      "cell_type": "code",
      "source": [
        "sns.regplot(y_test, y_lr)"
      ],
      "metadata": {
        "colab": {
          "base_uri": "https://localhost:8080/",
          "height": 359
        },
        "id": "3_vSj1bU3YOY",
        "outputId": "ef3d26d0-77b5-4568-a98a-503d27af9b3a"
      },
      "execution_count": 41,
      "outputs": [
        {
          "output_type": "stream",
          "name": "stderr",
          "text": [
            "/usr/local/lib/python3.7/dist-packages/seaborn/_decorators.py:43: FutureWarning: Pass the following variables as keyword args: x, y. From version 0.12, the only valid positional argument will be `data`, and passing other arguments without an explicit keyword will result in an error or misinterpretation.\n",
            "  FutureWarning\n"
          ]
        },
        {
          "output_type": "execute_result",
          "data": {
            "text/plain": [
              "<matplotlib.axes._subplots.AxesSubplot at 0x7f4f4add3bd0>"
            ]
          },
          "metadata": {},
          "execution_count": 41
        },
        {
          "output_type": "display_data",
          "data": {
            "text/plain": [
              "<Figure size 432x288 with 1 Axes>"
            ],
            "image/png": "[encoded data removed]"
          },
          "metadata": {
            "needs_background": "light"
          }
        }
      ]
    },
    {
      "cell_type": "markdown",
      "source": [
        "# Машина опорных векторов\n"
      ],
      "metadata": {
        "id": "D3KhJL0kAU61"
      }
    },
    {
      "cell_type": "code",
      "source": [
        "svr = SVR()"
      ],
      "metadata": {
        "id": "R7vugUlrAapI"
      },
      "execution_count": 42,
      "outputs": []
    },
    {
      "cell_type": "code",
      "source": [
        "svr.fit(X_train, y_train)"
      ],
      "metadata": {
        "colab": {
          "base_uri": "https://localhost:8080/"
        },
        "id": "hOsL5vm2AxwB",
        "outputId": "87cddd96-078f-4eb8-9bb1-0eb0aaef3c51"
      },
      "execution_count": 43,
      "outputs": [
        {
          "output_type": "execute_result",
          "data": {
            "text/plain": [
              "SVR()"
            ]
          },
          "metadata": {},
          "execution_count": 43
        }
      ]
    },
    {
      "cell_type": "code",
      "source": [
        "y_svr = svr.predict(X_test)"
      ],
      "metadata": {
        "id": "oC-aXGqiA9gI"
      },
      "execution_count": 44,
      "outputs": []
    },
    {
      "cell_type": "code",
      "source": [
        "r2_score(y_test, y_svr)"
      ],
      "metadata": {
        "colab": {
          "base_uri": "https://localhost:8080/"
        },
        "id": "CYEYR8akBFmP",
        "outputId": "13efb785-b813-4f80-b5a7-9ddeaa7d087c"
      },
      "execution_count": 45,
      "outputs": [
        {
          "output_type": "execute_result",
          "data": {
            "text/plain": [
              "-0.0815898952706966"
            ]
          },
          "metadata": {},
          "execution_count": 45
        }
      ]
    },
    {
      "cell_type": "code",
      "source": [
        "sns.regplot(y_test, y_svr)"
      ],
      "metadata": {
        "colab": {
          "base_uri": "https://localhost:8080/",
          "height": 359
        },
        "id": "wrOacl8MBQjK",
        "outputId": "8308d6cd-551c-466b-83a6-d8f74e54de36"
      },
      "execution_count": 46,
      "outputs": [
        {
          "output_type": "stream",
          "name": "stderr",
          "text": [
            "/usr/local/lib/python3.7/dist-packages/seaborn/_decorators.py:43: FutureWarning: Pass the following variables as keyword args: x, y. From version 0.12, the only valid positional argument will be `data`, and passing other arguments without an explicit keyword will result in an error or misinterpretation.\n",
            "  FutureWarning\n"
          ]
        },
        {
          "output_type": "execute_result",
          "data": {
            "text/plain": [
              "<matplotlib.axes._subplots.AxesSubplot at 0x7f4f4a2b2d50>"
            ]
          },
          "metadata": {},
          "execution_count": 46
        },
        {
          "output_type": "display_data",
          "data": {
            "text/plain": [
              "<Figure size 432x288 with 1 Axes>"
            ],
            "image/png": "[encoded data removed]"
          },
          "metadata": {
            "needs_background": "light"
          }
        }
      ]
    },
    {
      "cell_type": "markdown",
      "source": [
        "# Градиентый бустинг"
      ],
      "metadata": {
        "id": "l7m1GGLC3xCB"
      }
    },
    {
      "cell_type": "code",
      "source": [
        "lgbm = LGBMRegressor()"
      ],
      "metadata": {
        "id": "KqHbLgpR3vtZ"
      },
      "execution_count": 47,
      "outputs": []
    },
    {
      "cell_type": "code",
      "source": [
        "lgbm.fit(X_train, y_train)"
      ],
      "metadata": {
        "colab": {
          "base_uri": "https://localhost:8080/"
        },
        "id": "ln4vHxDi3_R0",
        "outputId": "b66b1d87-0a6f-4351-dcdf-b25efa28b9a4"
      },
      "execution_count": 48,
      "outputs": [
        {
          "output_type": "execute_result",
          "data": {
            "text/plain": [
              "LGBMRegressor()"
            ]
          },
          "metadata": {},
          "execution_count": 48
        }
      ]
    },
    {
      "cell_type": "code",
      "source": [
        "y_lgbm = lgbm.predict(X_test)"
      ],
      "metadata": {
        "id": "BGeWKavh4NZb"
      },
      "execution_count": 49,
      "outputs": []
    },
    {
      "cell_type": "code",
      "source": [
        "r2_score(y_test, y_lgbm)"
      ],
      "metadata": {
        "colab": {
          "base_uri": "https://localhost:8080/"
        },
        "id": "ir0Lw6dm4SBZ",
        "outputId": "568f1ab2-320f-4c5e-a40f-d5f4a227f097"
      },
      "execution_count": 50,
      "outputs": [
        {
          "output_type": "execute_result",
          "data": {
            "text/plain": [
              "0.5747514372398489"
            ]
          },
          "metadata": {},
          "execution_count": 50
        }
      ]
    },
    {
      "cell_type": "code",
      "source": [
        "sns.regplot(y_test, y_lgbm)"
      ],
      "metadata": {
        "colab": {
          "base_uri": "https://localhost:8080/",
          "height": 359
        },
        "id": "9aC24Wts4Zjj",
        "outputId": "639536f1-47f7-4f23-86dd-817c6e2a1a32"
      },
      "execution_count": 51,
      "outputs": [
        {
          "output_type": "stream",
          "name": "stderr",
          "text": [
            "/usr/local/lib/python3.7/dist-packages/seaborn/_decorators.py:43: FutureWarning: Pass the following variables as keyword args: x, y. From version 0.12, the only valid positional argument will be `data`, and passing other arguments without an explicit keyword will result in an error or misinterpretation.\n",
            "  FutureWarning\n"
          ]
        },
        {
          "output_type": "execute_result",
          "data": {
            "text/plain": [
              "<matplotlib.axes._subplots.AxesSubplot at 0x7f4f4a3c7f10>"
            ]
          },
          "metadata": {},
          "execution_count": 51
        },
        {
          "output_type": "display_data",
          "data": {
            "text/plain": [
              "<Figure size 432x288 with 1 Axes>"
            ],
            "image/png": "[encoded data removed]"
          },
          "metadata": {
            "needs_background": "light"
          }
        }
      ]
    },
    {
      "cell_type": "code",
      "source": [
        "cv_params = {'n_estimators': [ 2, 5, 10, 15, 50, 80, 100, 120, 200], \n",
        "             'reg_alpha': [0.0, 0.1, 0.25, 0.5, 1.1, 1.25, 2.5]}"
      ],
      "metadata": {
        "id": "bkT1QKTi5gmZ"
      },
      "execution_count": 52,
      "outputs": []
    },
    {
      "cell_type": "code",
      "source": [
        "cv_search = GridSearchCV(LGBMRegressor(), param_grid = cv_params,\n",
        "                         scoring = 'r2')"
      ],
      "metadata": {
        "id": "pHovML547zQr"
      },
      "execution_count": 53,
      "outputs": []
    },
    {
      "cell_type": "code",
      "source": [
        "cv_search.fit(X_train, y_train)"
      ],
      "metadata": {
        "colab": {
          "base_uri": "https://localhost:8080/"
        },
        "id": "ySUvipwJ8PZV",
        "outputId": "861e237b-aea3-47cd-ddc7-033a6a7f188e"
      },
      "execution_count": 54,
      "outputs": [
        {
          "output_type": "execute_result",
          "data": {
            "text/plain": [
              "GridSearchCV(estimator=LGBMRegressor(),\n",
              "             param_grid={'n_estimators': [2, 5, 10, 15, 50, 80, 100, 120, 200],\n",
              "                         'reg_alpha': [0.0, 0.1, 0.25, 0.5, 1.1, 1.25, 2.5]},\n",
              "             scoring='r2')"
            ]
          },
          "metadata": {},
          "execution_count": 54
        }
      ]
    },
    {
      "cell_type": "code",
      "source": [
        "cv_search.best_params_"
      ],
      "metadata": {
        "colab": {
          "base_uri": "https://localhost:8080/"
        },
        "id": "qDvaXyBj8d-w",
        "outputId": "54bfe682-754b-405b-bcc9-113e1c492b4c"
      },
      "execution_count": 55,
      "outputs": [
        {
          "output_type": "execute_result",
          "data": {
            "text/plain": [
              "{'n_estimators': 2, 'reg_alpha': 0.0}"
            ]
          },
          "metadata": {},
          "execution_count": 55
        }
      ]
    },
    {
      "cell_type": "code",
      "source": [
        "cv_search.best_score_"
      ],
      "metadata": {
        "colab": {
          "base_uri": "https://localhost:8080/"
        },
        "id": "xGog2f508m1X",
        "outputId": "9e0fad58-a783-459f-927f-180512904926"
      },
      "execution_count": 56,
      "outputs": [
        {
          "output_type": "execute_result",
          "data": {
            "text/plain": [
              "-1.7606466049412988"
            ]
          },
          "metadata": {},
          "execution_count": 56
        }
      ]
    },
    {
      "cell_type": "code",
      "source": [
        "lgbm2 = LGBMRegressor(n_estimators = 25, reg_alpha = 0.0)"
      ],
      "metadata": {
        "id": "8ca81Gjr--YO"
      },
      "execution_count": 57,
      "outputs": []
    },
    {
      "cell_type": "code",
      "source": [
        "lgbm2.fit(X_train, y_train)"
      ],
      "metadata": {
        "colab": {
          "base_uri": "https://localhost:8080/"
        },
        "id": "IGSE24md_NQZ",
        "outputId": "51ea1295-f0f8-424a-f9af-2f8e22a52798"
      },
      "execution_count": 58,
      "outputs": [
        {
          "output_type": "execute_result",
          "data": {
            "text/plain": [
              "LGBMRegressor(n_estimators=25)"
            ]
          },
          "metadata": {},
          "execution_count": 58
        }
      ]
    },
    {
      "cell_type": "code",
      "source": [
        "y_lgbm2 = lgbm2.predict(X_test)"
      ],
      "metadata": {
        "id": "h9uTzkpG_RRn"
      },
      "execution_count": 59,
      "outputs": []
    },
    {
      "cell_type": "code",
      "source": [
        "r2_score(y_test, y_lgbm2)"
      ],
      "metadata": {
        "colab": {
          "base_uri": "https://localhost:8080/"
        },
        "id": "ym51MSj6_X8w",
        "outputId": "a75466d8-5901-41ee-ff20-9d55912e1de4"
      },
      "execution_count": 60,
      "outputs": [
        {
          "output_type": "execute_result",
          "data": {
            "text/plain": [
              "0.5720975700757696"
            ]
          },
          "metadata": {},
          "execution_count": 60
        }
      ]
    },
    {
      "cell_type": "code",
      "source": [
        "mean_absolute_error(y_test, y_lgbm2)"
      ],
      "metadata": {
        "colab": {
          "base_uri": "https://localhost:8080/"
        },
        "id": "SOUCBNXCCExX",
        "outputId": "5606639b-4be5-45ac-8d71-872acd44bb16"
      },
      "execution_count": 61,
      "outputs": [
        {
          "output_type": "execute_result",
          "data": {
            "text/plain": [
              "1328.2858190164927"
            ]
          },
          "metadata": {},
          "execution_count": 61
        }
      ]
    }
  ]
}